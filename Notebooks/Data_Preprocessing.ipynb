{
 "cells": [
  {
   "metadata": {},
   "cell_type": "markdown",
   "source": [
    "# Obesity Dataset Preprocessing Notebook\n",
    "This notebook handles:\n",
    "- Splitting Train and Test Data\n",
    "- Scaling Numerical Features\n",
    "- Encoding Categorical Features"
   ],
   "id": "b091183aa41b9f50"
  },
  {
   "metadata": {
    "ExecuteTime": {
     "end_time": "2025-05-17T19:55:36.379122Z",
     "start_time": "2025-05-17T19:55:36.346876Z"
    }
   },
   "cell_type": "code",
   "source": [
    "import pandas as pd\n",
    "\n",
    "df = pd.read_csv(\"../data/Obesity_Dataset_Engineered.csv\")\n",
    "df.head()"
   ],
   "id": "5244c4669b253f2e",
   "outputs": [
    {
     "data": {
      "text/plain": [
       "   Age  Height  Weight Overweight_Family_History High_Calorie_Consumption  \\\n",
       "0   21    1.62    64.0                       yes                       no   \n",
       "1   21    1.52    56.0                       yes                       no   \n",
       "2   23    1.80    77.0                       yes                       no   \n",
       "3   27    1.80    87.0                        no                       no   \n",
       "4   22    1.78    89.8                        no                       no   \n",
       "\n",
       "   Vegetable_Consumption Snack_Consumption  Water_Intake  Physical_Activity  \\\n",
       "0                    2.0         sometimes           2.0                0.0   \n",
       "1                    3.0         sometimes           3.0                3.0   \n",
       "2                    2.0         sometimes           2.0                2.0   \n",
       "3                    3.0         sometimes           2.0                2.0   \n",
       "4                    2.0         sometimes           2.0                0.0   \n",
       "\n",
       "   Tech_Time Alcohol_Consumption        Obesity_Level        BMI     BMR  \n",
       "0        1.0                  no        normal_weight  24.386526  1386.5  \n",
       "1        0.0           sometimes        normal_weight  24.238227  1244.0  \n",
       "2        1.0          frequently        normal_weight  23.765432  1785.0  \n",
       "3        0.0          frequently   overweight_level_i  26.851852  1865.0  \n",
       "4        0.0           sometimes  overweight_level_ii  28.342381  1905.5  "
      ],
      "text/html": [
       "<div>\n",
       "<style scoped>\n",
       "    .dataframe tbody tr th:only-of-type {\n",
       "        vertical-align: middle;\n",
       "    }\n",
       "\n",
       "    .dataframe tbody tr th {\n",
       "        vertical-align: top;\n",
       "    }\n",
       "\n",
       "    .dataframe thead th {\n",
       "        text-align: right;\n",
       "    }\n",
       "</style>\n",
       "<table border=\"1\" class=\"dataframe\">\n",
       "  <thead>\n",
       "    <tr style=\"text-align: right;\">\n",
       "      <th></th>\n",
       "      <th>Age</th>\n",
       "      <th>Height</th>\n",
       "      <th>Weight</th>\n",
       "      <th>Overweight_Family_History</th>\n",
       "      <th>High_Calorie_Consumption</th>\n",
       "      <th>Vegetable_Consumption</th>\n",
       "      <th>Snack_Consumption</th>\n",
       "      <th>Water_Intake</th>\n",
       "      <th>Physical_Activity</th>\n",
       "      <th>Tech_Time</th>\n",
       "      <th>Alcohol_Consumption</th>\n",
       "      <th>Obesity_Level</th>\n",
       "      <th>BMI</th>\n",
       "      <th>BMR</th>\n",
       "    </tr>\n",
       "  </thead>\n",
       "  <tbody>\n",
       "    <tr>\n",
       "      <th>0</th>\n",
       "      <td>21</td>\n",
       "      <td>1.62</td>\n",
       "      <td>64.0</td>\n",
       "      <td>yes</td>\n",
       "      <td>no</td>\n",
       "      <td>2.0</td>\n",
       "      <td>sometimes</td>\n",
       "      <td>2.0</td>\n",
       "      <td>0.0</td>\n",
       "      <td>1.0</td>\n",
       "      <td>no</td>\n",
       "      <td>normal_weight</td>\n",
       "      <td>24.386526</td>\n",
       "      <td>1386.5</td>\n",
       "    </tr>\n",
       "    <tr>\n",
       "      <th>1</th>\n",
       "      <td>21</td>\n",
       "      <td>1.52</td>\n",
       "      <td>56.0</td>\n",
       "      <td>yes</td>\n",
       "      <td>no</td>\n",
       "      <td>3.0</td>\n",
       "      <td>sometimes</td>\n",
       "      <td>3.0</td>\n",
       "      <td>3.0</td>\n",
       "      <td>0.0</td>\n",
       "      <td>sometimes</td>\n",
       "      <td>normal_weight</td>\n",
       "      <td>24.238227</td>\n",
       "      <td>1244.0</td>\n",
       "    </tr>\n",
       "    <tr>\n",
       "      <th>2</th>\n",
       "      <td>23</td>\n",
       "      <td>1.80</td>\n",
       "      <td>77.0</td>\n",
       "      <td>yes</td>\n",
       "      <td>no</td>\n",
       "      <td>2.0</td>\n",
       "      <td>sometimes</td>\n",
       "      <td>2.0</td>\n",
       "      <td>2.0</td>\n",
       "      <td>1.0</td>\n",
       "      <td>frequently</td>\n",
       "      <td>normal_weight</td>\n",
       "      <td>23.765432</td>\n",
       "      <td>1785.0</td>\n",
       "    </tr>\n",
       "    <tr>\n",
       "      <th>3</th>\n",
       "      <td>27</td>\n",
       "      <td>1.80</td>\n",
       "      <td>87.0</td>\n",
       "      <td>no</td>\n",
       "      <td>no</td>\n",
       "      <td>3.0</td>\n",
       "      <td>sometimes</td>\n",
       "      <td>2.0</td>\n",
       "      <td>2.0</td>\n",
       "      <td>0.0</td>\n",
       "      <td>frequently</td>\n",
       "      <td>overweight_level_i</td>\n",
       "      <td>26.851852</td>\n",
       "      <td>1865.0</td>\n",
       "    </tr>\n",
       "    <tr>\n",
       "      <th>4</th>\n",
       "      <td>22</td>\n",
       "      <td>1.78</td>\n",
       "      <td>89.8</td>\n",
       "      <td>no</td>\n",
       "      <td>no</td>\n",
       "      <td>2.0</td>\n",
       "      <td>sometimes</td>\n",
       "      <td>2.0</td>\n",
       "      <td>0.0</td>\n",
       "      <td>0.0</td>\n",
       "      <td>sometimes</td>\n",
       "      <td>overweight_level_ii</td>\n",
       "      <td>28.342381</td>\n",
       "      <td>1905.5</td>\n",
       "    </tr>\n",
       "  </tbody>\n",
       "</table>\n",
       "</div>"
      ]
     },
     "execution_count": 26,
     "metadata": {},
     "output_type": "execute_result"
    }
   ],
   "execution_count": 26
  },
  {
   "metadata": {},
   "cell_type": "markdown",
   "source": "## Train Test Splitting",
   "id": "ab4b930cdbb2e941"
  },
  {
   "metadata": {
    "ExecuteTime": {
     "end_time": "2025-05-17T19:55:36.528831Z",
     "start_time": "2025-05-17T19:55:36.508097Z"
    }
   },
   "cell_type": "code",
   "source": [
    "from sklearn.model_selection import train_test_split\n",
    "\n",
    "target = \"Obesity_Level\"\n",
    "X = df.drop(target, axis=1)\n",
    "y = df[target]\n",
    "X_temp, X_test, y_temp, y_test = train_test_split(X, y, test_size=0.2, random_state=42, stratify=y)\n",
    "X_train, X_val, y_train, y_val = train_test_split(X_temp, y_temp, test_size=0.25, random_state=42, stratify=y_temp)\n",
    "X_train.shape, X_val.shape, X_test.shape, y_train.shape, y_val.shape, y_test.shape"
   ],
   "id": "a91a49af8d6e6a5d",
   "outputs": [
    {
     "data": {
      "text/plain": [
       "((1251, 13), (418, 13), (418, 13), (1251,), (418,), (418,))"
      ]
     },
     "execution_count": 27,
     "metadata": {},
     "output_type": "execute_result"
    }
   ],
   "execution_count": 27
  },
  {
   "metadata": {},
   "cell_type": "markdown",
   "source": "## X Preprocessor Scaling and Encoding",
   "id": "8b82a6856c00fb8"
  },
  {
   "metadata": {
    "ExecuteTime": {
     "end_time": "2025-05-17T19:55:36.794851Z",
     "start_time": "2025-05-17T19:55:36.785454Z"
    }
   },
   "cell_type": "code",
   "source": [
    "numerical_columns = df.select_dtypes(exclude=[\"object\"]).columns.tolist()\n",
    "categorical_columns = df.select_dtypes(include=[\"object\"]).columns.tolist()\n",
    "categorical_columns.remove(target)\n",
    "numerical_columns, categorical_columns"
   ],
   "id": "a6e8faa3d8cb0175",
   "outputs": [
    {
     "data": {
      "text/plain": [
       "(['Age',\n",
       "  'Height',\n",
       "  'Weight',\n",
       "  'Vegetable_Consumption',\n",
       "  'Water_Intake',\n",
       "  'Physical_Activity',\n",
       "  'Tech_Time',\n",
       "  'BMI',\n",
       "  'BMR'],\n",
       " ['Overweight_Family_History',\n",
       "  'High_Calorie_Consumption',\n",
       "  'Snack_Consumption',\n",
       "  'Alcohol_Consumption'])"
      ]
     },
     "execution_count": 28,
     "metadata": {},
     "output_type": "execute_result"
    }
   ],
   "execution_count": 28
  },
  {
   "metadata": {
    "ExecuteTime": {
     "end_time": "2025-05-17T19:55:36.978826Z",
     "start_time": "2025-05-17T19:55:36.952917Z"
    }
   },
   "cell_type": "code",
   "source": [
    "from sklearn.compose import ColumnTransformer\n",
    "from sklearn.preprocessing import StandardScaler, OneHotEncoder\n",
    "\n",
    "preprocessor = ColumnTransformer(transformers=[\n",
    "    (\"Scale\", StandardScaler(), numerical_columns),\n",
    "    (\"Encode\", OneHotEncoder(), categorical_columns),\n",
    "])\n",
    "X_train = preprocessor.fit_transform(X_train)\n",
    "X_val = preprocessor.transform(X_val)\n",
    "X_test = preprocessor.transform(X_test)\n",
    "X_train.shape, X_test.shape"
   ],
   "id": "8f440887ffea8db5",
   "outputs": [
    {
     "data": {
      "text/plain": [
       "((1251, 21), (418, 21))"
      ]
     },
     "execution_count": 29,
     "metadata": {},
     "output_type": "execute_result"
    }
   ],
   "execution_count": 29
  },
  {
   "metadata": {
    "ExecuteTime": {
     "end_time": "2025-05-17T19:55:37.104655Z",
     "start_time": "2025-05-17T19:55:37.093789Z"
    }
   },
   "cell_type": "code",
   "source": [
    "import joblib\n",
    "\n",
    "joblib.dump(preprocessor, \"../utils/X_preprocessor.pkl\")"
   ],
   "id": "e715c40c31e5b815",
   "outputs": [
    {
     "data": {
      "text/plain": [
       "['../utils/X_preprocessor.pkl']"
      ]
     },
     "execution_count": 30,
     "metadata": {},
     "output_type": "execute_result"
    }
   ],
   "execution_count": 30
  },
  {
   "metadata": {},
   "cell_type": "markdown",
   "source": "## y Encoding",
   "id": "3338b6da88b81992"
  },
  {
   "metadata": {
    "ExecuteTime": {
     "end_time": "2025-05-17T19:55:37.197359Z",
     "start_time": "2025-05-17T19:55:37.190985Z"
    }
   },
   "cell_type": "code",
   "source": "df[target].unique()",
   "id": "cc192418f29cdcdb",
   "outputs": [
    {
     "data": {
      "text/plain": [
       "array(['normal_weight', 'overweight_level_i', 'overweight_level_ii',\n",
       "       'obesity_type_i', 'insufficient_weight', 'obesity_type_ii',\n",
       "       'obesity_type_iii'], dtype=object)"
      ]
     },
     "execution_count": 31,
     "metadata": {},
     "output_type": "execute_result"
    }
   ],
   "execution_count": 31
  },
  {
   "metadata": {
    "ExecuteTime": {
     "end_time": "2025-05-17T19:55:37.292972Z",
     "start_time": "2025-05-17T19:55:37.283898Z"
    }
   },
   "cell_type": "code",
   "source": [
    "target_order = [\"insufficient_weight\", \"normal_weight\", \"overweight_level_i\", \"overweight_level_ii\", \"obesity_type_i\",\n",
    "                \"obesity_type_ii\", \"obesity_type_iii\"]\n",
    "from sklearn.preprocessing import OrdinalEncoder\n",
    "\n",
    "y_encoder = OrdinalEncoder(categories=[target_order])\n",
    "y_train = y_encoder.fit_transform(y_train.values.reshape(-1, 1)).ravel()\n",
    "y_val = y_encoder.transform(y_val.values.reshape(-1, 1)).ravel()\n",
    "y_test = y_encoder.transform(y_test.values.reshape(-1, 1)).ravel()\n",
    "y_train.shape, y_test.shape"
   ],
   "id": "f59a7e26074ff944",
   "outputs": [
    {
     "data": {
      "text/plain": [
       "((1251,), (418,))"
      ]
     },
     "execution_count": 32,
     "metadata": {},
     "output_type": "execute_result"
    }
   ],
   "execution_count": 32
  },
  {
   "metadata": {
    "ExecuteTime": {
     "end_time": "2025-05-17T19:55:37.329087Z",
     "start_time": "2025-05-17T19:55:37.321127Z"
    }
   },
   "cell_type": "code",
   "source": "joblib.dump(y_encoder, \"../utils/y_encoder.pkl\")",
   "id": "b5914bf046036730",
   "outputs": [
    {
     "data": {
      "text/plain": [
       "['../utils/y_encoder.pkl']"
      ]
     },
     "execution_count": 33,
     "metadata": {},
     "output_type": "execute_result"
    }
   ],
   "execution_count": 33
  },
  {
   "metadata": {},
   "cell_type": "markdown",
   "source": "## Train and Test Data Saving",
   "id": "be6344e814ab37aa"
  },
  {
   "metadata": {
    "ExecuteTime": {
     "end_time": "2025-05-17T19:55:37.466932Z",
     "start_time": "2025-05-17T19:55:37.458037Z"
    }
   },
   "cell_type": "code",
   "source": [
    "encoded_feature_names = preprocessor.transformers_[1][1].get_feature_names_out(categorical_columns)\n",
    "column_names = list(numerical_columns) + list(encoded_feature_names)\n",
    "column_names"
   ],
   "id": "2d4943791923f6f",
   "outputs": [
    {
     "data": {
      "text/plain": [
       "['Age',\n",
       " 'Height',\n",
       " 'Weight',\n",
       " 'Vegetable_Consumption',\n",
       " 'Water_Intake',\n",
       " 'Physical_Activity',\n",
       " 'Tech_Time',\n",
       " 'BMI',\n",
       " 'BMR',\n",
       " 'Overweight_Family_History_no',\n",
       " 'Overweight_Family_History_yes',\n",
       " 'High_Calorie_Consumption_no',\n",
       " 'High_Calorie_Consumption_yes',\n",
       " 'Snack_Consumption_always',\n",
       " 'Snack_Consumption_frequently',\n",
       " 'Snack_Consumption_no',\n",
       " 'Snack_Consumption_sometimes',\n",
       " 'Alcohol_Consumption_always',\n",
       " 'Alcohol_Consumption_frequently',\n",
       " 'Alcohol_Consumption_no',\n",
       " 'Alcohol_Consumption_sometimes']"
      ]
     },
     "execution_count": 34,
     "metadata": {},
     "output_type": "execute_result"
    }
   ],
   "execution_count": 34
  },
  {
   "metadata": {
    "ExecuteTime": {
     "end_time": "2025-05-17T19:55:37.562891Z",
     "start_time": "2025-05-17T19:55:37.556119Z"
    }
   },
   "cell_type": "code",
   "source": [
    "X_train_df = pd.DataFrame(X_train, columns=column_names)\n",
    "X_val_df = pd.DataFrame(X_val, columns=column_names)\n",
    "X_test_df = pd.DataFrame(X_test, columns=column_names)\n",
    "y_train_df = pd.DataFrame(y_train)\n",
    "y_val_df = pd.DataFrame(y_val)\n",
    "y_test_df = pd.DataFrame(y_test)"
   ],
   "id": "111c7300574e72ae",
   "outputs": [],
   "execution_count": 35
  },
  {
   "metadata": {
    "ExecuteTime": {
     "end_time": "2025-05-17T19:55:37.705243Z",
     "start_time": "2025-05-17T19:55:37.646518Z"
    }
   },
   "cell_type": "code",
   "source": [
    "X_train_df.to_csv(\"../data/preprocessed_data/X_train.csv\", index=False)\n",
    "X_val_df.to_csv(\"../data/preprocessed_data/X_val.csv\", index=False)\n",
    "X_test_df.to_csv(\"../data/preprocessed_data/X_test.csv\", index=False)\n",
    "y_train_df.to_csv(\"../data/preprocessed_data/y_train.csv\", header=False, index=False)\n",
    "y_val_df.to_csv(\"../data/preprocessed_data/y_val.csv\", header=False, index=False)\n",
    "y_test_df.to_csv(\"../data/preprocessed_data/y_test.csv\", header=False, index=False)"
   ],
   "id": "e17cd79aecdc2dc6",
   "outputs": [],
   "execution_count": 36
  }
 ],
 "metadata": {
  "kernelspec": {
   "display_name": "Python 3",
   "language": "python",
   "name": "python3"
  },
  "language_info": {
   "codemirror_mode": {
    "name": "ipython",
    "version": 2
   },
   "file_extension": ".py",
   "mimetype": "text/x-python",
   "name": "python",
   "nbconvert_exporter": "python",
   "pygments_lexer": "ipython2",
   "version": "2.7.6"
  }
 },
 "nbformat": 4,
 "nbformat_minor": 5
}
