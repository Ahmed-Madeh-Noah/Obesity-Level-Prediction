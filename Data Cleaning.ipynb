{
 "cells": [
  {
   "cell_type": "markdown",
   "id": "4d8b021e",
   "metadata": {},
   "source": [
    "# Obesity Dataset Cleaning Notebook\n",
    "This notebook handles:\n",
    "- Unifying Feature String Values\n",
    "- Handling Missing Values\n",
    "- Removing Duplicated Samples\n",
    "- Checking for Outlier Samples\n"
   ]
  },
  {
   "metadata": {
    "ExecuteTime": {
     "end_time": "2025-04-15T18:00:51.562321Z",
     "start_time": "2025-04-15T18:00:51.543773Z"
    }
   },
   "cell_type": "code",
   "source": [
    "import pandas as pd\n",
    "\n",
    "df = pd.read_csv(\"data/Obesity Dataset.csv\")\n",
    "df.head()"
   ],
   "id": "446ce07dfd827382",
   "outputs": [
    {
     "data": {
      "text/plain": [
       "   Gender  Age  Height  Weight Overweight_Family_History  \\\n",
       "0  Female   21    1.62    64.0                       yes   \n",
       "1  Female   21    1.52    56.0                       yes   \n",
       "2    Male   23    1.80    77.0                       yes   \n",
       "3    Male   27    1.80    87.0                        no   \n",
       "4    Male   22    1.78    89.8                        no   \n",
       "\n",
       "  High_Calorie_Consumption  Vegetable_Consumption  Main_Meals  \\\n",
       "0                       no                    2.0         3.0   \n",
       "1                       no                    3.0         3.0   \n",
       "2                       no                    2.0         3.0   \n",
       "3                       no                    3.0         3.0   \n",
       "4                       no                    2.0         1.0   \n",
       "\n",
       "  Snack_Consumption Smoker  Water_Intake Calorie_Monitoring  \\\n",
       "0         Sometimes     no           2.0                 no   \n",
       "1         Sometimes    yes           3.0                yes   \n",
       "2         Sometimes     no           2.0                 no   \n",
       "3         Sometimes     no           2.0                 no   \n",
       "4         Sometimes     no           2.0                 no   \n",
       "\n",
       "   Physical_Activity  Tech_Time Alcohol_Consumption    Transportation_Mean  \\\n",
       "0                0.0        1.0                  no  Public_Transportation   \n",
       "1                3.0        0.0           Sometimes  Public_Transportation   \n",
       "2                2.0        1.0          Frequently  Public_Transportation   \n",
       "3                2.0        0.0          Frequently                Walking   \n",
       "4                0.0        0.0           Sometimes  Public_Transportation   \n",
       "\n",
       "         Obesity_Level  \n",
       "0        Normal_Weight  \n",
       "1        Normal_Weight  \n",
       "2        Normal_Weight  \n",
       "3   Overweight_Level_I  \n",
       "4  Overweight_Level_II  "
      ],
      "text/html": [
       "<div>\n",
       "<style scoped>\n",
       "    .dataframe tbody tr th:only-of-type {\n",
       "        vertical-align: middle;\n",
       "    }\n",
       "\n",
       "    .dataframe tbody tr th {\n",
       "        vertical-align: top;\n",
       "    }\n",
       "\n",
       "    .dataframe thead th {\n",
       "        text-align: right;\n",
       "    }\n",
       "</style>\n",
       "<table border=\"1\" class=\"dataframe\">\n",
       "  <thead>\n",
       "    <tr style=\"text-align: right;\">\n",
       "      <th></th>\n",
       "      <th>Gender</th>\n",
       "      <th>Age</th>\n",
       "      <th>Height</th>\n",
       "      <th>Weight</th>\n",
       "      <th>Overweight_Family_History</th>\n",
       "      <th>High_Calorie_Consumption</th>\n",
       "      <th>Vegetable_Consumption</th>\n",
       "      <th>Main_Meals</th>\n",
       "      <th>Snack_Consumption</th>\n",
       "      <th>Smoker</th>\n",
       "      <th>Water_Intake</th>\n",
       "      <th>Calorie_Monitoring</th>\n",
       "      <th>Physical_Activity</th>\n",
       "      <th>Tech_Time</th>\n",
       "      <th>Alcohol_Consumption</th>\n",
       "      <th>Transportation_Mean</th>\n",
       "      <th>Obesity_Level</th>\n",
       "    </tr>\n",
       "  </thead>\n",
       "  <tbody>\n",
       "    <tr>\n",
       "      <th>0</th>\n",
       "      <td>Female</td>\n",
       "      <td>21</td>\n",
       "      <td>1.62</td>\n",
       "      <td>64.0</td>\n",
       "      <td>yes</td>\n",
       "      <td>no</td>\n",
       "      <td>2.0</td>\n",
       "      <td>3.0</td>\n",
       "      <td>Sometimes</td>\n",
       "      <td>no</td>\n",
       "      <td>2.0</td>\n",
       "      <td>no</td>\n",
       "      <td>0.0</td>\n",
       "      <td>1.0</td>\n",
       "      <td>no</td>\n",
       "      <td>Public_Transportation</td>\n",
       "      <td>Normal_Weight</td>\n",
       "    </tr>\n",
       "    <tr>\n",
       "      <th>1</th>\n",
       "      <td>Female</td>\n",
       "      <td>21</td>\n",
       "      <td>1.52</td>\n",
       "      <td>56.0</td>\n",
       "      <td>yes</td>\n",
       "      <td>no</td>\n",
       "      <td>3.0</td>\n",
       "      <td>3.0</td>\n",
       "      <td>Sometimes</td>\n",
       "      <td>yes</td>\n",
       "      <td>3.0</td>\n",
       "      <td>yes</td>\n",
       "      <td>3.0</td>\n",
       "      <td>0.0</td>\n",
       "      <td>Sometimes</td>\n",
       "      <td>Public_Transportation</td>\n",
       "      <td>Normal_Weight</td>\n",
       "    </tr>\n",
       "    <tr>\n",
       "      <th>2</th>\n",
       "      <td>Male</td>\n",
       "      <td>23</td>\n",
       "      <td>1.80</td>\n",
       "      <td>77.0</td>\n",
       "      <td>yes</td>\n",
       "      <td>no</td>\n",
       "      <td>2.0</td>\n",
       "      <td>3.0</td>\n",
       "      <td>Sometimes</td>\n",
       "      <td>no</td>\n",
       "      <td>2.0</td>\n",
       "      <td>no</td>\n",
       "      <td>2.0</td>\n",
       "      <td>1.0</td>\n",
       "      <td>Frequently</td>\n",
       "      <td>Public_Transportation</td>\n",
       "      <td>Normal_Weight</td>\n",
       "    </tr>\n",
       "    <tr>\n",
       "      <th>3</th>\n",
       "      <td>Male</td>\n",
       "      <td>27</td>\n",
       "      <td>1.80</td>\n",
       "      <td>87.0</td>\n",
       "      <td>no</td>\n",
       "      <td>no</td>\n",
       "      <td>3.0</td>\n",
       "      <td>3.0</td>\n",
       "      <td>Sometimes</td>\n",
       "      <td>no</td>\n",
       "      <td>2.0</td>\n",
       "      <td>no</td>\n",
       "      <td>2.0</td>\n",
       "      <td>0.0</td>\n",
       "      <td>Frequently</td>\n",
       "      <td>Walking</td>\n",
       "      <td>Overweight_Level_I</td>\n",
       "    </tr>\n",
       "    <tr>\n",
       "      <th>4</th>\n",
       "      <td>Male</td>\n",
       "      <td>22</td>\n",
       "      <td>1.78</td>\n",
       "      <td>89.8</td>\n",
       "      <td>no</td>\n",
       "      <td>no</td>\n",
       "      <td>2.0</td>\n",
       "      <td>1.0</td>\n",
       "      <td>Sometimes</td>\n",
       "      <td>no</td>\n",
       "      <td>2.0</td>\n",
       "      <td>no</td>\n",
       "      <td>0.0</td>\n",
       "      <td>0.0</td>\n",
       "      <td>Sometimes</td>\n",
       "      <td>Public_Transportation</td>\n",
       "      <td>Overweight_Level_II</td>\n",
       "    </tr>\n",
       "  </tbody>\n",
       "</table>\n",
       "</div>"
      ]
     },
     "execution_count": 108,
     "metadata": {},
     "output_type": "execute_result"
    }
   ],
   "execution_count": 108
  },
  {
   "metadata": {},
   "cell_type": "markdown",
   "source": "## Unifying Feature String Values",
   "id": "b4eb116281b239fc"
  },
  {
   "metadata": {
    "ExecuteTime": {
     "end_time": "2025-04-15T18:00:51.612653Z",
     "start_time": "2025-04-15T18:00:51.594816Z"
    }
   },
   "cell_type": "code",
   "source": [
    "lower_str = (lambda var: var.lower() if isinstance(var, str) else var)\n",
    "df[df.select_dtypes(include=[\"object\"]).columns] = df.select_dtypes(include=[\"object\"]).map(lower_str)\n",
    "df.head()"
   ],
   "id": "867a463c",
   "outputs": [
    {
     "data": {
      "text/plain": [
       "   Gender  Age  Height  Weight Overweight_Family_History  \\\n",
       "0  female   21    1.62    64.0                       yes   \n",
       "1  female   21    1.52    56.0                       yes   \n",
       "2    male   23    1.80    77.0                       yes   \n",
       "3    male   27    1.80    87.0                        no   \n",
       "4    male   22    1.78    89.8                        no   \n",
       "\n",
       "  High_Calorie_Consumption  Vegetable_Consumption  Main_Meals  \\\n",
       "0                       no                    2.0         3.0   \n",
       "1                       no                    3.0         3.0   \n",
       "2                       no                    2.0         3.0   \n",
       "3                       no                    3.0         3.0   \n",
       "4                       no                    2.0         1.0   \n",
       "\n",
       "  Snack_Consumption Smoker  Water_Intake Calorie_Monitoring  \\\n",
       "0         sometimes     no           2.0                 no   \n",
       "1         sometimes    yes           3.0                yes   \n",
       "2         sometimes     no           2.0                 no   \n",
       "3         sometimes     no           2.0                 no   \n",
       "4         sometimes     no           2.0                 no   \n",
       "\n",
       "   Physical_Activity  Tech_Time Alcohol_Consumption    Transportation_Mean  \\\n",
       "0                0.0        1.0                  no  public_transportation   \n",
       "1                3.0        0.0           sometimes  public_transportation   \n",
       "2                2.0        1.0          frequently  public_transportation   \n",
       "3                2.0        0.0          frequently                walking   \n",
       "4                0.0        0.0           sometimes  public_transportation   \n",
       "\n",
       "         Obesity_Level  \n",
       "0        normal_weight  \n",
       "1        normal_weight  \n",
       "2        normal_weight  \n",
       "3   overweight_level_i  \n",
       "4  overweight_level_ii  "
      ],
      "text/html": [
       "<div>\n",
       "<style scoped>\n",
       "    .dataframe tbody tr th:only-of-type {\n",
       "        vertical-align: middle;\n",
       "    }\n",
       "\n",
       "    .dataframe tbody tr th {\n",
       "        vertical-align: top;\n",
       "    }\n",
       "\n",
       "    .dataframe thead th {\n",
       "        text-align: right;\n",
       "    }\n",
       "</style>\n",
       "<table border=\"1\" class=\"dataframe\">\n",
       "  <thead>\n",
       "    <tr style=\"text-align: right;\">\n",
       "      <th></th>\n",
       "      <th>Gender</th>\n",
       "      <th>Age</th>\n",
       "      <th>Height</th>\n",
       "      <th>Weight</th>\n",
       "      <th>Overweight_Family_History</th>\n",
       "      <th>High_Calorie_Consumption</th>\n",
       "      <th>Vegetable_Consumption</th>\n",
       "      <th>Main_Meals</th>\n",
       "      <th>Snack_Consumption</th>\n",
       "      <th>Smoker</th>\n",
       "      <th>Water_Intake</th>\n",
       "      <th>Calorie_Monitoring</th>\n",
       "      <th>Physical_Activity</th>\n",
       "      <th>Tech_Time</th>\n",
       "      <th>Alcohol_Consumption</th>\n",
       "      <th>Transportation_Mean</th>\n",
       "      <th>Obesity_Level</th>\n",
       "    </tr>\n",
       "  </thead>\n",
       "  <tbody>\n",
       "    <tr>\n",
       "      <th>0</th>\n",
       "      <td>female</td>\n",
       "      <td>21</td>\n",
       "      <td>1.62</td>\n",
       "      <td>64.0</td>\n",
       "      <td>yes</td>\n",
       "      <td>no</td>\n",
       "      <td>2.0</td>\n",
       "      <td>3.0</td>\n",
       "      <td>sometimes</td>\n",
       "      <td>no</td>\n",
       "      <td>2.0</td>\n",
       "      <td>no</td>\n",
       "      <td>0.0</td>\n",
       "      <td>1.0</td>\n",
       "      <td>no</td>\n",
       "      <td>public_transportation</td>\n",
       "      <td>normal_weight</td>\n",
       "    </tr>\n",
       "    <tr>\n",
       "      <th>1</th>\n",
       "      <td>female</td>\n",
       "      <td>21</td>\n",
       "      <td>1.52</td>\n",
       "      <td>56.0</td>\n",
       "      <td>yes</td>\n",
       "      <td>no</td>\n",
       "      <td>3.0</td>\n",
       "      <td>3.0</td>\n",
       "      <td>sometimes</td>\n",
       "      <td>yes</td>\n",
       "      <td>3.0</td>\n",
       "      <td>yes</td>\n",
       "      <td>3.0</td>\n",
       "      <td>0.0</td>\n",
       "      <td>sometimes</td>\n",
       "      <td>public_transportation</td>\n",
       "      <td>normal_weight</td>\n",
       "    </tr>\n",
       "    <tr>\n",
       "      <th>2</th>\n",
       "      <td>male</td>\n",
       "      <td>23</td>\n",
       "      <td>1.80</td>\n",
       "      <td>77.0</td>\n",
       "      <td>yes</td>\n",
       "      <td>no</td>\n",
       "      <td>2.0</td>\n",
       "      <td>3.0</td>\n",
       "      <td>sometimes</td>\n",
       "      <td>no</td>\n",
       "      <td>2.0</td>\n",
       "      <td>no</td>\n",
       "      <td>2.0</td>\n",
       "      <td>1.0</td>\n",
       "      <td>frequently</td>\n",
       "      <td>public_transportation</td>\n",
       "      <td>normal_weight</td>\n",
       "    </tr>\n",
       "    <tr>\n",
       "      <th>3</th>\n",
       "      <td>male</td>\n",
       "      <td>27</td>\n",
       "      <td>1.80</td>\n",
       "      <td>87.0</td>\n",
       "      <td>no</td>\n",
       "      <td>no</td>\n",
       "      <td>3.0</td>\n",
       "      <td>3.0</td>\n",
       "      <td>sometimes</td>\n",
       "      <td>no</td>\n",
       "      <td>2.0</td>\n",
       "      <td>no</td>\n",
       "      <td>2.0</td>\n",
       "      <td>0.0</td>\n",
       "      <td>frequently</td>\n",
       "      <td>walking</td>\n",
       "      <td>overweight_level_i</td>\n",
       "    </tr>\n",
       "    <tr>\n",
       "      <th>4</th>\n",
       "      <td>male</td>\n",
       "      <td>22</td>\n",
       "      <td>1.78</td>\n",
       "      <td>89.8</td>\n",
       "      <td>no</td>\n",
       "      <td>no</td>\n",
       "      <td>2.0</td>\n",
       "      <td>1.0</td>\n",
       "      <td>sometimes</td>\n",
       "      <td>no</td>\n",
       "      <td>2.0</td>\n",
       "      <td>no</td>\n",
       "      <td>0.0</td>\n",
       "      <td>0.0</td>\n",
       "      <td>sometimes</td>\n",
       "      <td>public_transportation</td>\n",
       "      <td>overweight_level_ii</td>\n",
       "    </tr>\n",
       "  </tbody>\n",
       "</table>\n",
       "</div>"
      ]
     },
     "execution_count": 109,
     "metadata": {},
     "output_type": "execute_result"
    }
   ],
   "execution_count": 109
  },
  {
   "metadata": {},
   "cell_type": "markdown",
   "source": "## Handling Missing Values",
   "id": "b7c9d56222304b5f"
  },
  {
   "metadata": {
    "ExecuteTime": {
     "end_time": "2025-04-15T18:00:51.671366Z",
     "start_time": "2025-04-15T18:00:51.664771Z"
    }
   },
   "cell_type": "code",
   "source": "df.isnull().sum()",
   "id": "eabee20b",
   "outputs": [
    {
     "data": {
      "text/plain": [
       "Gender                       0\n",
       "Age                          0\n",
       "Height                       0\n",
       "Weight                       0\n",
       "Overweight_Family_History    0\n",
       "High_Calorie_Consumption     0\n",
       "Vegetable_Consumption        0\n",
       "Main_Meals                   0\n",
       "Snack_Consumption            0\n",
       "Smoker                       0\n",
       "Water_Intake                 0\n",
       "Calorie_Monitoring           0\n",
       "Physical_Activity            0\n",
       "Tech_Time                    0\n",
       "Alcohol_Consumption          0\n",
       "Transportation_Mean          0\n",
       "Obesity_Level                0\n",
       "dtype: int64"
      ]
     },
     "execution_count": 110,
     "metadata": {},
     "output_type": "execute_result"
    }
   ],
   "execution_count": 110
  },
  {
   "metadata": {},
   "cell_type": "markdown",
   "source": "## Removing Duplicated Samples",
   "id": "d955dd97210af825"
  },
  {
   "metadata": {
    "ExecuteTime": {
     "end_time": "2025-04-15T18:00:51.939608Z",
     "start_time": "2025-04-15T18:00:51.931836Z"
    }
   },
   "cell_type": "code",
   "source": "df.duplicated().sum()",
   "id": "529c21b3",
   "outputs": [
    {
     "data": {
      "text/plain": [
       "np.int64(24)"
      ]
     },
     "execution_count": 111,
     "metadata": {},
     "output_type": "execute_result"
    }
   ],
   "execution_count": 111
  },
  {
   "metadata": {
    "ExecuteTime": {
     "end_time": "2025-04-15T18:00:52.018797Z",
     "start_time": "2025-04-15T18:00:52.007372Z"
    }
   },
   "cell_type": "code",
   "source": [
    "df.drop_duplicates(inplace=True)\n",
    "df.duplicated().sum()"
   ],
   "id": "f868bdca",
   "outputs": [
    {
     "data": {
      "text/plain": [
       "np.int64(0)"
      ]
     },
     "execution_count": 112,
     "metadata": {},
     "output_type": "execute_result"
    }
   ],
   "execution_count": 112
  },
  {
   "metadata": {},
   "cell_type": "markdown",
   "source": "## Removing Duplicated Samples",
   "id": "6575d796847f695a"
  },
  {
   "metadata": {
    "ExecuteTime": {
     "end_time": "2025-04-15T18:00:52.048839Z",
     "start_time": "2025-04-15T18:00:52.040017Z"
    }
   },
   "cell_type": "code",
   "source": "df.info()",
   "id": "0003120e",
   "outputs": [
    {
     "name": "stdout",
     "output_type": "stream",
     "text": [
      "<class 'pandas.core.frame.DataFrame'>\n",
      "Index: 2087 entries, 0 to 2110\n",
      "Data columns (total 17 columns):\n",
      " #   Column                     Non-Null Count  Dtype  \n",
      "---  ------                     --------------  -----  \n",
      " 0   Gender                     2087 non-null   object \n",
      " 1   Age                        2087 non-null   int64  \n",
      " 2   Height                     2087 non-null   float64\n",
      " 3   Weight                     2087 non-null   float64\n",
      " 4   Overweight_Family_History  2087 non-null   object \n",
      " 5   High_Calorie_Consumption   2087 non-null   object \n",
      " 6   Vegetable_Consumption      2087 non-null   float64\n",
      " 7   Main_Meals                 2087 non-null   float64\n",
      " 8   Snack_Consumption          2087 non-null   object \n",
      " 9   Smoker                     2087 non-null   object \n",
      " 10  Water_Intake               2087 non-null   float64\n",
      " 11  Calorie_Monitoring         2087 non-null   object \n",
      " 12  Physical_Activity          2087 non-null   float64\n",
      " 13  Tech_Time                  2087 non-null   float64\n",
      " 14  Alcohol_Consumption        2087 non-null   object \n",
      " 15  Transportation_Mean        2087 non-null   object \n",
      " 16  Obesity_Level              2087 non-null   object \n",
      "dtypes: float64(7), int64(1), object(9)\n",
      "memory usage: 293.5+ KB\n"
     ]
    }
   ],
   "execution_count": 113
  },
  {
   "metadata": {
    "ExecuteTime": {
     "end_time": "2025-04-15T18:00:52.087979Z",
     "start_time": "2025-04-15T18:00:52.067723Z"
    }
   },
   "cell_type": "code",
   "source": "df.describe().T",
   "id": "f3626a16",
   "outputs": [
    {
     "data": {
      "text/plain": [
       "                        count       mean        std    min     25%     50%  \\\n",
       "Age                    2087.0  24.356493   6.379977  14.00  20.000  23.000   \n",
       "Height                 2087.0   1.702616   0.093251   1.45   1.630   1.700   \n",
       "Weight                 2087.0  86.858706  26.190838  39.00  66.000  83.100   \n",
       "Vegetable_Consumption  2087.0   2.421409   0.534807   1.00   2.000   2.400   \n",
       "Main_Meals             2087.0   2.701203   0.764655   1.00   2.700   3.000   \n",
       "Water_Intake           2087.0   2.004792   0.608281   1.00   1.590   2.000   \n",
       "Physical_Activity      2087.0   1.012827   0.853496   0.00   0.125   1.000   \n",
       "Tech_Time              2087.0   0.663031   0.608152   0.00   0.000   0.631   \n",
       "\n",
       "                           75%     max  \n",
       "Age                     26.000   61.00  \n",
       "Height                   1.770    1.98  \n",
       "Weight                 108.015  173.00  \n",
       "Vegetable_Consumption    3.000    3.00  \n",
       "Main_Meals               3.000    4.00  \n",
       "Water_Intake             2.465    3.00  \n",
       "Physical_Activity        1.680    3.00  \n",
       "Tech_Time                1.000    2.00  "
      ],
      "text/html": [
       "<div>\n",
       "<style scoped>\n",
       "    .dataframe tbody tr th:only-of-type {\n",
       "        vertical-align: middle;\n",
       "    }\n",
       "\n",
       "    .dataframe tbody tr th {\n",
       "        vertical-align: top;\n",
       "    }\n",
       "\n",
       "    .dataframe thead th {\n",
       "        text-align: right;\n",
       "    }\n",
       "</style>\n",
       "<table border=\"1\" class=\"dataframe\">\n",
       "  <thead>\n",
       "    <tr style=\"text-align: right;\">\n",
       "      <th></th>\n",
       "      <th>count</th>\n",
       "      <th>mean</th>\n",
       "      <th>std</th>\n",
       "      <th>min</th>\n",
       "      <th>25%</th>\n",
       "      <th>50%</th>\n",
       "      <th>75%</th>\n",
       "      <th>max</th>\n",
       "    </tr>\n",
       "  </thead>\n",
       "  <tbody>\n",
       "    <tr>\n",
       "      <th>Age</th>\n",
       "      <td>2087.0</td>\n",
       "      <td>24.356493</td>\n",
       "      <td>6.379977</td>\n",
       "      <td>14.00</td>\n",
       "      <td>20.000</td>\n",
       "      <td>23.000</td>\n",
       "      <td>26.000</td>\n",
       "      <td>61.00</td>\n",
       "    </tr>\n",
       "    <tr>\n",
       "      <th>Height</th>\n",
       "      <td>2087.0</td>\n",
       "      <td>1.702616</td>\n",
       "      <td>0.093251</td>\n",
       "      <td>1.45</td>\n",
       "      <td>1.630</td>\n",
       "      <td>1.700</td>\n",
       "      <td>1.770</td>\n",
       "      <td>1.98</td>\n",
       "    </tr>\n",
       "    <tr>\n",
       "      <th>Weight</th>\n",
       "      <td>2087.0</td>\n",
       "      <td>86.858706</td>\n",
       "      <td>26.190838</td>\n",
       "      <td>39.00</td>\n",
       "      <td>66.000</td>\n",
       "      <td>83.100</td>\n",
       "      <td>108.015</td>\n",
       "      <td>173.00</td>\n",
       "    </tr>\n",
       "    <tr>\n",
       "      <th>Vegetable_Consumption</th>\n",
       "      <td>2087.0</td>\n",
       "      <td>2.421409</td>\n",
       "      <td>0.534807</td>\n",
       "      <td>1.00</td>\n",
       "      <td>2.000</td>\n",
       "      <td>2.400</td>\n",
       "      <td>3.000</td>\n",
       "      <td>3.00</td>\n",
       "    </tr>\n",
       "    <tr>\n",
       "      <th>Main_Meals</th>\n",
       "      <td>2087.0</td>\n",
       "      <td>2.701203</td>\n",
       "      <td>0.764655</td>\n",
       "      <td>1.00</td>\n",
       "      <td>2.700</td>\n",
       "      <td>3.000</td>\n",
       "      <td>3.000</td>\n",
       "      <td>4.00</td>\n",
       "    </tr>\n",
       "    <tr>\n",
       "      <th>Water_Intake</th>\n",
       "      <td>2087.0</td>\n",
       "      <td>2.004792</td>\n",
       "      <td>0.608281</td>\n",
       "      <td>1.00</td>\n",
       "      <td>1.590</td>\n",
       "      <td>2.000</td>\n",
       "      <td>2.465</td>\n",
       "      <td>3.00</td>\n",
       "    </tr>\n",
       "    <tr>\n",
       "      <th>Physical_Activity</th>\n",
       "      <td>2087.0</td>\n",
       "      <td>1.012827</td>\n",
       "      <td>0.853496</td>\n",
       "      <td>0.00</td>\n",
       "      <td>0.125</td>\n",
       "      <td>1.000</td>\n",
       "      <td>1.680</td>\n",
       "      <td>3.00</td>\n",
       "    </tr>\n",
       "    <tr>\n",
       "      <th>Tech_Time</th>\n",
       "      <td>2087.0</td>\n",
       "      <td>0.663031</td>\n",
       "      <td>0.608152</td>\n",
       "      <td>0.00</td>\n",
       "      <td>0.000</td>\n",
       "      <td>0.631</td>\n",
       "      <td>1.000</td>\n",
       "      <td>2.00</td>\n",
       "    </tr>\n",
       "  </tbody>\n",
       "</table>\n",
       "</div>"
      ]
     },
     "execution_count": 114,
     "metadata": {},
     "output_type": "execute_result"
    }
   ],
   "execution_count": 114
  },
  {
   "metadata": {
    "ExecuteTime": {
     "end_time": "2025-04-15T18:00:52.134136Z",
     "start_time": "2025-04-15T18:00:52.127218Z"
    }
   },
   "cell_type": "code",
   "source": "df.nunique()",
   "id": "2e95b4bb",
   "outputs": [
    {
     "data": {
      "text/plain": [
       "Gender                          2\n",
       "Age                            40\n",
       "Height                         51\n",
       "Weight                       1335\n",
       "Overweight_Family_History       2\n",
       "High_Calorie_Consumption        2\n",
       "Vegetable_Consumption         180\n",
       "Main_Meals                    256\n",
       "Snack_Consumption               4\n",
       "Smoker                          2\n",
       "Water_Intake                  201\n",
       "Calorie_Monitoring              2\n",
       "Physical_Activity             257\n",
       "Tech_Time                     813\n",
       "Alcohol_Consumption             4\n",
       "Transportation_Mean             5\n",
       "Obesity_Level                   7\n",
       "dtype: int64"
      ]
     },
     "execution_count": 115,
     "metadata": {},
     "output_type": "execute_result"
    }
   ],
   "execution_count": 115
  },
  {
   "metadata": {
    "ExecuteTime": {
     "end_time": "2025-04-15T18:00:52.195692Z",
     "start_time": "2025-04-15T18:00:52.190306Z"
    }
   },
   "cell_type": "code",
   "source": [
    "import seaborn as sns\n",
    "import matplotlib.pyplot as plt\n",
    "\n",
    "\n",
    "def get_outliers(input_df: pd.DataFrame, col: str, verbose=False) -> (float, float, pd.DataFrame):\n",
    "    q1 = input_df[col].quantile(0.25)\n",
    "    q3 = input_df[col].quantile(0.75)\n",
    "    iqr = q3 - q1\n",
    "    lower_bound = q1 - (iqr * 1.5)\n",
    "    upper_bound = q3 + (iqr * 1.5)\n",
    "    outliers = input_df[(input_df[col] < lower_bound) | (input_df[col] > upper_bound)].copy()\n",
    "    if verbose:\n",
    "        print(f\"Column: {col}\")\n",
    "        print(f\"There exists: {len(outliers)} outliers out of {len(input_df)} samples\")\n",
    "        if not outliers.empty:\n",
    "            print(f\"Their share: {len(outliers) / len(input_df):.2f}%\")\n",
    "            print(f\"The lower and upper bounds are ({lower_bound}, {upper_bound})\")\n",
    "            print(\"Example samples:\")\n",
    "            print(outliers[col].head())\n",
    "        sns.boxplot(data=input_df, y=col)\n",
    "        plt.title(f\"{col} Feature Boxplot\")\n",
    "        plt.show()\n",
    "        print(\"-\" * 100)\n",
    "    return lower_bound, upper_bound, outliers"
   ],
   "id": "aadccb622154d575",
   "outputs": [],
   "execution_count": 116
  },
  {
   "metadata": {
    "ExecuteTime": {
     "end_time": "2025-04-15T18:00:52.846479Z",
     "start_time": "2025-04-15T18:00:52.239652Z"
    }
   },
   "cell_type": "code",
   "source": [
    "for column in df.select_dtypes(exclude=[\"object\"]).columns:\n",
    "    get_outliers(df, column, verbose=True)"
   ],
   "id": "2892d7324c34500c",
   "outputs": [
    {
     "name": "stdout",
     "output_type": "stream",
     "text": [
      "Column: Age\n",
      "There exists: 160 outliers out of 2087 samples\n",
      "Their share: 0.08%\n",
      "The lower and upper bounds are (11.0, 35.0)\n",
      "Example samples:\n",
      "13     41\n",
      "21     52\n",
      "33     39\n",
      "92     55\n",
      "104    38\n",
      "Name: Age, dtype: int64\n"
     ]
    },
    {
     "data": {
      "text/plain": [
       "<Figure size 640x480 with 1 Axes>"
      ],
      "image/png": "[encoded data removed]"
     },
     "metadata": {},
     "output_type": "display_data"
    },
    {
     "name": "stdout",
     "output_type": "stream",
     "text": [
      "----------------------------------------------------------------------------------------------------\n",
      "Column: Height\n",
      "There exists: 0 outliers out of 2087 samples\n"
     ]
    },
    {
     "data": {
      "text/plain": [
       "<Figure size 640x480 with 1 Axes>"
      ],
      "image/png": "[encoded data removed]"
     },
     "metadata": {},
     "output_type": "display_data"
    },
    {
     "name": "stdout",
     "output_type": "stream",
     "text": [
      "----------------------------------------------------------------------------------------------------\n",
      "Column: Weight\n",
      "There exists: 1 outliers out of 2087 samples\n",
      "Their share: 0.00%\n",
      "The lower and upper bounds are (2.977499999999999, 171.0375)\n",
      "Example samples:\n",
      "344    173.0\n",
      "Name: Weight, dtype: float64\n"
     ]
    },
    {
     "data": {
      "text/plain": [
       "<Figure size 640x480 with 1 Axes>"
      ],
      "image/png": "[encoded data removed]"
     },
     "metadata": {},
     "output_type": "display_data"
    },
    {
     "name": "stdout",
     "output_type": "stream",
     "text": [
      "----------------------------------------------------------------------------------------------------\n",
      "Column: Vegetable_Consumption\n",
      "There exists: 0 outliers out of 2087 samples\n"
     ]
    },
    {
     "data": {
      "text/plain": [
       "<Figure size 640x480 with 1 Axes>"
      ],
      "image/png": "[encoded data removed]"
     },
     "metadata": {},
     "output_type": "display_data"
    },
    {
     "name": "stdout",
     "output_type": "stream",
     "text": [
      "----------------------------------------------------------------------------------------------------\n",
      "Column: Main_Meals\n",
      "There exists: 578 outliers out of 2087 samples\n",
      "Their share: 0.28%\n",
      "The lower and upper bounds are (2.2500000000000004, 3.4499999999999997)\n",
      "Example samples:\n",
      "4     1.0\n",
      "14    1.0\n",
      "16    1.0\n",
      "17    1.0\n",
      "18    4.0\n",
      "Name: Main_Meals, dtype: float64\n"
     ]
    },
    {
     "data": {
      "text/plain": [
       "<Figure size 640x480 with 1 Axes>"
      ],
      "image/png": "[encoded data removed]"
     },
     "metadata": {},
     "output_type": "display_data"
    },
    {
     "name": "stdout",
     "output_type": "stream",
     "text": [
      "----------------------------------------------------------------------------------------------------\n",
      "Column: Water_Intake\n",
      "There exists: 0 outliers out of 2087 samples\n"
     ]
    },
    {
     "data": {
      "text/plain": [
       "<Figure size 640x480 with 1 Axes>"
      ],
      "image/png": "[encoded data removed]"
     },
     "metadata": {},
     "output_type": "display_data"
    },
    {
     "name": "stdout",
     "output_type": "stream",
     "text": [
      "----------------------------------------------------------------------------------------------------\n",
      "Column: Physical_Activity\n",
      "There exists: 0 outliers out of 2087 samples\n"
     ]
    },
    {
     "data": {
      "text/plain": [
       "<Figure size 640x480 with 1 Axes>"
      ],
      "image/png": "[encoded data removed]"
     },
     "metadata": {},
     "output_type": "display_data"
    },
    {
     "name": "stdout",
     "output_type": "stream",
     "text": [
      "----------------------------------------------------------------------------------------------------\n",
      "Column: Tech_Time\n",
      "There exists: 0 outliers out of 2087 samples\n"
     ]
    },
    {
     "data": {
      "text/plain": [
       "<Figure size 640x480 with 1 Axes>"
      ],
      "image/png": "[encoded data removed]"
     },
     "metadata": {},
     "output_type": "display_data"
    },
    {
     "name": "stdout",
     "output_type": "stream",
     "text": [
      "----------------------------------------------------------------------------------------------------\n"
     ]
    }
   ],
   "execution_count": 117
  },
  {
   "metadata": {},
   "cell_type": "markdown",
   "source": "#### It doesn't appear that these are unwanted outliers, but rather outliers that are acceptable",
   "id": "6d7274307c87f8b5"
  },
  {
   "metadata": {
    "ExecuteTime": {
     "end_time": "2025-04-15T18:00:52.866769Z",
     "start_time": "2025-04-15T18:00:52.850717Z"
    }
   },
   "cell_type": "code",
   "source": "df.to_csv(\"data/Obesity Dataset - Preprocessed.csv\", index=False)",
   "id": "cca8994d130b5722",
   "outputs": [],
   "execution_count": 118
  }
 ],
 "metadata": {
  "kernelspec": {
   "display_name": "Python 3",
   "language": "python",
   "name": "python3"
  },
  "language_info": {
   "codemirror_mode": {
    "name": "ipython",
    "version": 3
   },
   "file_extension": ".py",
   "mimetype": "text/x-python",
   "name": "python",
   "nbconvert_exporter": "python",
   "pygments_lexer": "ipython3",
   "version": "3.12.5"
  }
 },
 "nbformat": 4,
 "nbformat_minor": 5
}
