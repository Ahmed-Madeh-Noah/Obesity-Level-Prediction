{
 "nbformat": 4,
 "nbformat_minor": 0,
 "metadata": {
  "colab": {
   "provenance": []
  },
  "kernelspec": {
   "name": "python3",
   "display_name": "Python 3 (ipykernel)",
   "language": "python"
  },
  "language_info": {
   "name": "python"
  }
 },
 "cells": [
  {
   "metadata": {},
   "cell_type": "markdown",
   "source": [
    "# Obesity Classification Model Training and Evaluation Notebook\n",
    "This notebook handles:\n",
    "- Model Training\n",
    "- Hyper-Parameter Tuning\n",
    "- Model Evaluation"
   ]
  },
  {
   "metadata": {
    "ExecuteTime": {
     "end_time": "2025-04-17T02:29:00.655340Z",
     "start_time": "2025-04-17T02:29:00.627334Z"
    }
   },
   "cell_type": "code",
   "source": [
    "import pandas as pd\n",
    "from narwhals import Boolean\n",
    "\n",
    "X_train = pd.read_csv(\"data/preprocessed data/X_train.csv\")\n",
    "X_val = pd.read_csv(\"data/preprocessed data/X_val.csv\")\n",
    "X_test = pd.read_csv(\"data/preprocessed data/X_test.csv\")\n",
    "y_train = pd.read_csv(\"data/preprocessed data/y_train.csv\", header=None).to_numpy().ravel()\n",
    "y_val = pd.read_csv(\"data/preprocessed data/y_val.csv\", header=None).to_numpy().ravel()\n",
    "y_test = pd.read_csv(\"data/preprocessed data/y_test.csv\", header=None).to_numpy().ravel()\n",
    "X_train.shape, X_val.shape, X_test.shape, y_train.shape, y_val.shape, y_test.shape"
   ],
   "outputs": [
    {
     "data": {
      "text/plain": [
       "((1251, 33), (418, 33), (418, 33), (1251,), (418,), (418,))"
      ]
     },
     "execution_count": 533,
     "metadata": {},
     "output_type": "execute_result"
    }
   ],
   "execution_count": 533
  },
  {
   "metadata": {},
   "cell_type": "markdown",
   "source": "## Model Evaluation"
  },
  {
   "metadata": {
    "ExecuteTime": {
     "end_time": "2025-04-17T02:29:00.686691Z",
     "start_time": "2025-04-17T02:29:00.667499Z"
    }
   },
   "cell_type": "code",
   "source": [
    "model_evaluations = pd.DataFrame(\n",
    "    columns=[\"Train_Accuracy\", \"Val_Accuracy\", \"Test_Accuracy\", \"Balanced_Accuracy\", \"Precision\", \"Recall\", \"F1_Score\"])\n",
    "model_evaluations.index.name = \"Model\"\n",
    "model_evaluations.head()"
   ],
   "outputs": [
    {
     "data": {
      "text/plain": [
       "Empty DataFrame\n",
       "Columns: [Train_Accuracy, Val_Accuracy, Test_Accuracy, Balanced_Accuracy, Precision, Recall, F1_Score]\n",
       "Index: []"
      ],
      "text/html": [
       "<div>\n",
       "<style scoped>\n",
       "    .dataframe tbody tr th:only-of-type {\n",
       "        vertical-align: middle;\n",
       "    }\n",
       "\n",
       "    .dataframe tbody tr th {\n",
       "        vertical-align: top;\n",
       "    }\n",
       "\n",
       "    .dataframe thead th {\n",
       "        text-align: right;\n",
       "    }\n",
       "</style>\n",
       "<table border=\"1\" class=\"dataframe\">\n",
       "  <thead>\n",
       "    <tr style=\"text-align: right;\">\n",
       "      <th></th>\n",
       "      <th>Train_Accuracy</th>\n",
       "      <th>Val_Accuracy</th>\n",
       "      <th>Test_Accuracy</th>\n",
       "      <th>Balanced_Accuracy</th>\n",
       "      <th>Precision</th>\n",
       "      <th>Recall</th>\n",
       "      <th>F1_Score</th>\n",
       "    </tr>\n",
       "    <tr>\n",
       "      <th>Model</th>\n",
       "      <th></th>\n",
       "      <th></th>\n",
       "      <th></th>\n",
       "      <th></th>\n",
       "      <th></th>\n",
       "      <th></th>\n",
       "      <th></th>\n",
       "    </tr>\n",
       "  </thead>\n",
       "  <tbody>\n",
       "  </tbody>\n",
       "</table>\n",
       "</div>"
      ]
     },
     "execution_count": 534,
     "metadata": {},
     "output_type": "execute_result"
    }
   ],
   "execution_count": 534
  },
  {
   "metadata": {
    "ExecuteTime": {
     "end_time": "2025-04-17T02:29:00.770202Z",
     "start_time": "2025-04-17T02:29:00.756126Z"
    }
   },
   "cell_type": "code",
   "source": [
    "from sklearn.base import BaseEstimator\n",
    "from sklearn.metrics import accuracy_score, balanced_accuracy_score, precision_score, recall_score, f1_score\n",
    "import joblib\n",
    "\n",
    "\n",
    "def evaluate_model(model_name: str, model: BaseEstimator) -> None:\n",
    "    model.fit(X_train, y_train)\n",
    "    train_pred = model.predict(X_train)\n",
    "    val_pred = model.predict(X_val)\n",
    "    test_pred = model.predict(X_test)\n",
    "    model_evaluations.loc[model_name, \"Train_Accuracy\"] = accuracy_score(y_train, train_pred)\n",
    "    model_evaluations.loc[model_name, \"Val_Accuracy\"] = accuracy_score(y_val, val_pred)\n",
    "    model_evaluations.loc[model_name, \"Test_Accuracy\"] = accuracy_score(y_test, test_pred)\n",
    "    model_evaluations.loc[model_name, \"Balanced_Accuracy\"] = balanced_accuracy_score(y_test, test_pred)\n",
    "    model_evaluations.loc[model_name, \"Precision\"] = precision_score(y_test, test_pred, average=\"weighted\",\n",
    "                                                                     zero_division=0)\n",
    "    model_evaluations.loc[model_name, \"Recall\"] = recall_score(y_test, test_pred, average=\"weighted\", zero_division=0)\n",
    "    model_evaluations.loc[model_name, \"F1_Score\"] = f1_score(y_test, test_pred, average=\"weighted\", zero_division=0)\n",
    "    joblib.dump(model, f\"models/{model_name}.pkl\")\n",
    "    return model_evaluations.loc[model_name]"
   ],
   "outputs": [],
   "execution_count": 535
  },
  {
   "metadata": {},
   "cell_type": "markdown",
   "source": "## GridSearch Cross-Validation Hyper-Parameter Tuning"
  },
  {
   "metadata": {
    "ExecuteTime": {
     "end_time": "2025-04-17T02:29:00.801840Z",
     "start_time": "2025-04-17T02:29:00.798333Z"
    }
   },
   "cell_type": "code",
   "source": [
    "from sklearn.model_selection import GridSearchCV\n",
    "\n",
    "\n",
    "def hyper_parameter_tune(model: BaseEstimator, param_grid: dict, verbose: bool = True) -> BaseEstimator:\n",
    "    grid_search = GridSearchCV(model, param_grid, n_jobs=-1)\n",
    "    grid_search.fit(X_train, y_train)\n",
    "    if verbose:\n",
    "        print(grid_search.best_params_)\n",
    "    return grid_search.best_estimator_"
   ],
   "outputs": [],
   "execution_count": 536
  },
  {
   "metadata": {},
   "cell_type": "markdown",
   "source": "## Model Training"
  },
  {
   "metadata": {},
   "cell_type": "markdown",
   "source": "### Gaussian Naive Bayes Classifier"
  },
  {
   "metadata": {
    "ExecuteTime": {
     "end_time": "2025-04-17T02:29:00.905325Z",
     "start_time": "2025-04-17T02:29:00.833406Z"
    }
   },
   "cell_type": "code",
   "source": [
    "from sklearn.naive_bayes import GaussianNB\n",
    "\n",
    "GaussianNB_model = GaussianNB()\n",
    "params = {\"var_smoothing\": [1e-9, 1e-6, 1e-3, 1e-2, 1e-1]}\n",
    "GaussianNB_model = hyper_parameter_tune(GaussianNB_model, params)\n",
    "evaluate_model(\"GaussianNB\", GaussianNB_model)"
   ],
   "outputs": [
    {
     "name": "stdout",
     "output_type": "stream",
     "text": [
      "{'var_smoothing': 0.01}\n"
     ]
    },
    {
     "data": {
      "text/plain": [
       "Train_Accuracy       0.776179\n",
       "Val_Accuracy         0.746411\n",
       "Test_Accuracy        0.760766\n",
       "Balanced_Accuracy    0.759609\n",
       "Precision            0.752953\n",
       "Recall               0.760766\n",
       "F1_Score             0.752344\n",
       "Name: GaussianNB, dtype: object"
      ]
     },
     "execution_count": 537,
     "metadata": {},
     "output_type": "execute_result"
    }
   ],
   "execution_count": 537
  },
  {
   "metadata": {},
   "cell_type": "markdown",
   "source": "### Logistic Regression Classifier"
  },
  {
   "metadata": {
    "ExecuteTime": {
     "end_time": "2025-04-17T02:29:01.203715Z",
     "start_time": "2025-04-17T02:29:00.968312Z"
    }
   },
   "cell_type": "code",
   "source": [
    "from sklearn.linear_model import LogisticRegression\n",
    "\n",
    "LogisticRegression_model = LogisticRegression(random_state=42, n_jobs=-1)\n",
    "params = {\"C\": [1.0, 0.1, 10]}\n",
    "LogisticRegression_model = hyper_parameter_tune(LogisticRegression_model, params)\n",
    "evaluate_model(\"LogisticRegression\", LogisticRegression_model)"
   ],
   "outputs": [
    {
     "name": "stdout",
     "output_type": "stream",
     "text": [
      "{'C': 10}\n"
     ]
    },
    {
     "data": {
      "text/plain": [
       "Train_Accuracy       0.973621\n",
       "Val_Accuracy         0.954545\n",
       "Test_Accuracy        0.942584\n",
       "Balanced_Accuracy    0.941219\n",
       "Precision            0.942584\n",
       "Recall               0.942584\n",
       "F1_Score             0.942245\n",
       "Name: LogisticRegression, dtype: object"
      ]
     },
     "execution_count": 538,
     "metadata": {},
     "output_type": "execute_result"
    }
   ],
   "execution_count": 538
  },
  {
   "metadata": {},
   "cell_type": "markdown",
   "source": "### K-Nearest Neighbors Classifier"
  },
  {
   "metadata": {
    "ExecuteTime": {
     "end_time": "2025-04-17T02:29:01.442567Z",
     "start_time": "2025-04-17T02:29:01.278181Z"
    }
   },
   "cell_type": "code",
   "source": [
    "from sklearn.neighbors import KNeighborsClassifier\n",
    "\n",
    "KNeighborsClassifier_model = KNeighborsClassifier(n_jobs=-1)\n",
    "params = {\"n_neighbors\": [3, 5, 7]}\n",
    "KNeighborsClassifier_model = hyper_parameter_tune(KNeighborsClassifier_model, params)\n",
    "evaluate_model(\"KNeighborsClassifier\", KNeighborsClassifier_model)"
   ],
   "outputs": [
    {
     "name": "stdout",
     "output_type": "stream",
     "text": [
      "{'n_neighbors': 3}\n"
     ]
    },
    {
     "data": {
      "text/plain": [
       "Train_Accuracy       0.936851\n",
       "Val_Accuracy         0.866029\n",
       "Test_Accuracy        0.870813\n",
       "Balanced_Accuracy    0.865684\n",
       "Precision            0.867696\n",
       "Recall               0.870813\n",
       "F1_Score             0.864696\n",
       "Name: KNeighborsClassifier, dtype: object"
      ]
     },
     "execution_count": 539,
     "metadata": {},
     "output_type": "execute_result"
    }
   ],
   "execution_count": 539
  },
  {
   "metadata": {},
   "cell_type": "markdown",
   "source": "### Decision Tree Classifier"
  },
  {
   "metadata": {
    "ExecuteTime": {
     "end_time": "2025-04-17T02:29:01.593316Z",
     "start_time": "2025-04-17T02:29:01.515114Z"
    }
   },
   "cell_type": "code",
   "source": [
    "from sklearn.tree import DecisionTreeClassifier\n",
    "\n",
    "DecisionTreeClassifier_model = DecisionTreeClassifier(random_state=42)\n",
    "params = {\"max_depth\": [3, 5, 7]}\n",
    "DecisionTreeClassifier_model = hyper_parameter_tune(DecisionTreeClassifier_model, params)\n",
    "evaluate_model(\"DecisionTreeClassifier\", DecisionTreeClassifier_model)"
   ],
   "outputs": [
    {
     "name": "stdout",
     "output_type": "stream",
     "text": [
      "{'max_depth': 3}\n"
     ]
    },
    {
     "data": {
      "text/plain": [
       "Train_Accuracy       0.973621\n",
       "Val_Accuracy         0.966507\n",
       "Test_Accuracy        0.966507\n",
       "Balanced_Accuracy    0.965671\n",
       "Precision            0.966969\n",
       "Recall               0.966507\n",
       "F1_Score             0.966333\n",
       "Name: DecisionTreeClassifier, dtype: object"
      ]
     },
     "execution_count": 540,
     "metadata": {},
     "output_type": "execute_result"
    }
   ],
   "execution_count": 540
  },
  {
   "metadata": {},
   "cell_type": "markdown",
   "source": "### Support Vector Classifier"
  },
  {
   "metadata": {
    "ExecuteTime": {
     "end_time": "2025-04-17T02:29:02.112465Z",
     "start_time": "2025-04-17T02:29:01.867594Z"
    }
   },
   "cell_type": "code",
   "source": [
    "from sklearn.svm import SVC\n",
    "\n",
    "SVC_model = SVC(random_state=42)\n",
    "params = {\"kernel\": [\"linear\", \"poly\", \"rbf\"], \"C\": [1.0, 0.5, 1.5]}\n",
    "SVC_model = hyper_parameter_tune(SVC_model, params)\n",
    "evaluate_model(\"SVC\", SVC_model)"
   ],
   "outputs": [
    {
     "name": "stdout",
     "output_type": "stream",
     "text": [
      "{'C': 1.5, 'kernel': 'linear'}\n"
     ]
    },
    {
     "data": {
      "text/plain": [
       "Train_Accuracy       0.979217\n",
       "Val_Accuracy         0.964115\n",
       "Test_Accuracy         0.95933\n",
       "Balanced_Accuracy    0.958815\n",
       "Precision            0.960101\n",
       "Recall                0.95933\n",
       "F1_Score             0.959346\n",
       "Name: SVC, dtype: object"
      ]
     },
     "execution_count": 541,
     "metadata": {},
     "output_type": "execute_result"
    }
   ],
   "execution_count": 541
  },
  {
   "metadata": {},
   "cell_type": "markdown",
   "source": "### Random Forest Classifier"
  },
  {
   "metadata": {
    "ExecuteTime": {
     "end_time": "2025-04-17T02:29:03.041719Z",
     "start_time": "2025-04-17T02:29:02.177519Z"
    }
   },
   "cell_type": "code",
   "source": [
    "from sklearn.ensemble import RandomForestClassifier\n",
    "\n",
    "RandomForestClassifier_model = RandomForestClassifier(max_depth=5, random_state=42, n_jobs=-1)\n",
    "params = {\"ccp_alpha\": [0.01, 0.09, 0.011]}\n",
    "RandomForestClassifier_model = hyper_parameter_tune(RandomForestClassifier_model, params)\n",
    "evaluate_model(\"RandomForestClassifier\", RandomForestClassifier_model)"
   ],
   "outputs": [
    {
     "name": "stdout",
     "output_type": "stream",
     "text": [
      "{'ccp_alpha': 0.01}\n"
     ]
    },
    {
     "data": {
      "text/plain": [
       "Train_Accuracy       0.960032\n",
       "Val_Accuracy         0.947368\n",
       "Test_Accuracy        0.954545\n",
       "Balanced_Accuracy    0.952911\n",
       "Precision            0.954612\n",
       "Recall               0.954545\n",
       "F1_Score             0.954223\n",
       "Name: RandomForestClassifier, dtype: object"
      ]
     },
     "execution_count": 542,
     "metadata": {},
     "output_type": "execute_result"
    }
   ],
   "execution_count": 542
  },
  {
   "metadata": {},
   "cell_type": "markdown",
   "source": "### Gradient Boosting Classifier"
  },
  {
   "metadata": {
    "ExecuteTime": {
     "end_time": "2025-04-17T02:29:13.866465Z",
     "start_time": "2025-04-17T02:29:03.119513Z"
    }
   },
   "cell_type": "code",
   "source": [
    "from sklearn.ensemble import GradientBoostingClassifier\n",
    "\n",
    "GradientBoostingClassifier_model = GradientBoostingClassifier(random_state=42)\n",
    "params = {\"learning_rate\": [0.1, 0.09, 0.11], \"ccp_alpha\": [0.01, 0.09, 0.11]}\n",
    "GradientBoostingClassifier_model = hyper_parameter_tune(GradientBoostingClassifier_model, params)\n",
    "evaluate_model(\"GradientBoostingClassifier\", GradientBoostingClassifier_model)"
   ],
   "outputs": [
    {
     "name": "stdout",
     "output_type": "stream",
     "text": [
      "{'ccp_alpha': 0.01, 'learning_rate': 0.1}\n"
     ]
    },
    {
     "data": {
      "text/plain": [
       "Train_Accuracy       0.966427\n",
       "Val_Accuracy         0.961722\n",
       "Test_Accuracy        0.956938\n",
       "Balanced_Accuracy    0.956722\n",
       "Precision             0.95876\n",
       "Recall               0.956938\n",
       "F1_Score             0.956869\n",
       "Name: GradientBoostingClassifier, dtype: object"
      ]
     },
     "execution_count": 543,
     "metadata": {},
     "output_type": "execute_result"
    }
   ],
   "execution_count": 543
  },
  {
   "metadata": {},
   "cell_type": "markdown",
   "source": "### Multilayer Perceptron Classifier"
  },
  {
   "metadata": {
    "ExecuteTime": {
     "end_time": "2025-04-17T02:29:14.946721Z",
     "start_time": "2025-04-17T02:29:13.928168Z"
    }
   },
   "cell_type": "code",
   "source": [
    "from sklearn.neural_network import MLPClassifier\n",
    "\n",
    "MLPClassifier_model = MLPClassifier(early_stopping=True, random_state=42)\n",
    "params = {\"hidden_layer_sizes\": [(100,), (50, 50), (25, 10, 5)]}\n",
    "MLPClassifier_model = hyper_parameter_tune(MLPClassifier_model, params)\n",
    "evaluate_model(\"MLPClassifier\", MLPClassifier_model)"
   ],
   "outputs": [
    {
     "name": "stdout",
     "output_type": "stream",
     "text": [
      "{'hidden_layer_sizes': (50, 50)}\n"
     ]
    },
    {
     "data": {
      "text/plain": [
       "Train_Accuracy        0.97442\n",
       "Val_Accuracy         0.949761\n",
       "Test_Accuracy        0.952153\n",
       "Balanced_Accuracy    0.950776\n",
       "Precision            0.952637\n",
       "Recall               0.952153\n",
       "F1_Score             0.952018\n",
       "Name: MLPClassifier, dtype: object"
      ]
     },
     "execution_count": 544,
     "metadata": {},
     "output_type": "execute_result"
    }
   ],
   "execution_count": 544
  },
  {
   "metadata": {
    "ExecuteTime": {
     "end_time": "2025-04-17T02:29:15.029944Z",
     "start_time": "2025-04-17T02:29:15.015359Z"
    }
   },
   "cell_type": "code",
   "source": "model_evaluations",
   "outputs": [
    {
     "data": {
      "text/plain": [
       "                           Train_Accuracy Val_Accuracy Test_Accuracy  \\\n",
       "Model                                                                  \n",
       "GaussianNB                       0.776179     0.746411      0.760766   \n",
       "LogisticRegression               0.973621     0.954545      0.942584   \n",
       "KNeighborsClassifier             0.936851     0.866029      0.870813   \n",
       "DecisionTreeClassifier           0.973621     0.966507      0.966507   \n",
       "SVC                              0.979217     0.964115       0.95933   \n",
       "RandomForestClassifier           0.960032     0.947368      0.954545   \n",
       "GradientBoostingClassifier       0.966427     0.961722      0.956938   \n",
       "MLPClassifier                     0.97442     0.949761      0.952153   \n",
       "\n",
       "                           Balanced_Accuracy Precision    Recall  F1_Score  \n",
       "Model                                                                       \n",
       "GaussianNB                          0.759609  0.752953  0.760766  0.752344  \n",
       "LogisticRegression                  0.941219  0.942584  0.942584  0.942245  \n",
       "KNeighborsClassifier                0.865684  0.867696  0.870813  0.864696  \n",
       "DecisionTreeClassifier              0.965671  0.966969  0.966507  0.966333  \n",
       "SVC                                 0.958815  0.960101   0.95933  0.959346  \n",
       "RandomForestClassifier              0.952911  0.954612  0.954545  0.954223  \n",
       "GradientBoostingClassifier          0.956722   0.95876  0.956938  0.956869  \n",
       "MLPClassifier                       0.950776  0.952637  0.952153  0.952018  "
      ],
      "text/html": [
       "<div>\n",
       "<style scoped>\n",
       "    .dataframe tbody tr th:only-of-type {\n",
       "        vertical-align: middle;\n",
       "    }\n",
       "\n",
       "    .dataframe tbody tr th {\n",
       "        vertical-align: top;\n",
       "    }\n",
       "\n",
       "    .dataframe thead th {\n",
       "        text-align: right;\n",
       "    }\n",
       "</style>\n",
       "<table border=\"1\" class=\"dataframe\">\n",
       "  <thead>\n",
       "    <tr style=\"text-align: right;\">\n",
       "      <th></th>\n",
       "      <th>Train_Accuracy</th>\n",
       "      <th>Val_Accuracy</th>\n",
       "      <th>Test_Accuracy</th>\n",
       "      <th>Balanced_Accuracy</th>\n",
       "      <th>Precision</th>\n",
       "      <th>Recall</th>\n",
       "      <th>F1_Score</th>\n",
       "    </tr>\n",
       "    <tr>\n",
       "      <th>Model</th>\n",
       "      <th></th>\n",
       "      <th></th>\n",
       "      <th></th>\n",
       "      <th></th>\n",
       "      <th></th>\n",
       "      <th></th>\n",
       "      <th></th>\n",
       "    </tr>\n",
       "  </thead>\n",
       "  <tbody>\n",
       "    <tr>\n",
       "      <th>GaussianNB</th>\n",
       "      <td>0.776179</td>\n",
       "      <td>0.746411</td>\n",
       "      <td>0.760766</td>\n",
       "      <td>0.759609</td>\n",
       "      <td>0.752953</td>\n",
       "      <td>0.760766</td>\n",
       "      <td>0.752344</td>\n",
       "    </tr>\n",
       "    <tr>\n",
       "      <th>LogisticRegression</th>\n",
       "      <td>0.973621</td>\n",
       "      <td>0.954545</td>\n",
       "      <td>0.942584</td>\n",
       "      <td>0.941219</td>\n",
       "      <td>0.942584</td>\n",
       "      <td>0.942584</td>\n",
       "      <td>0.942245</td>\n",
       "    </tr>\n",
       "    <tr>\n",
       "      <th>KNeighborsClassifier</th>\n",
       "      <td>0.936851</td>\n",
       "      <td>0.866029</td>\n",
       "      <td>0.870813</td>\n",
       "      <td>0.865684</td>\n",
       "      <td>0.867696</td>\n",
       "      <td>0.870813</td>\n",
       "      <td>0.864696</td>\n",
       "    </tr>\n",
       "    <tr>\n",
       "      <th>DecisionTreeClassifier</th>\n",
       "      <td>0.973621</td>\n",
       "      <td>0.966507</td>\n",
       "      <td>0.966507</td>\n",
       "      <td>0.965671</td>\n",
       "      <td>0.966969</td>\n",
       "      <td>0.966507</td>\n",
       "      <td>0.966333</td>\n",
       "    </tr>\n",
       "    <tr>\n",
       "      <th>SVC</th>\n",
       "      <td>0.979217</td>\n",
       "      <td>0.964115</td>\n",
       "      <td>0.95933</td>\n",
       "      <td>0.958815</td>\n",
       "      <td>0.960101</td>\n",
       "      <td>0.95933</td>\n",
       "      <td>0.959346</td>\n",
       "    </tr>\n",
       "    <tr>\n",
       "      <th>RandomForestClassifier</th>\n",
       "      <td>0.960032</td>\n",
       "      <td>0.947368</td>\n",
       "      <td>0.954545</td>\n",
       "      <td>0.952911</td>\n",
       "      <td>0.954612</td>\n",
       "      <td>0.954545</td>\n",
       "      <td>0.954223</td>\n",
       "    </tr>\n",
       "    <tr>\n",
       "      <th>GradientBoostingClassifier</th>\n",
       "      <td>0.966427</td>\n",
       "      <td>0.961722</td>\n",
       "      <td>0.956938</td>\n",
       "      <td>0.956722</td>\n",
       "      <td>0.95876</td>\n",
       "      <td>0.956938</td>\n",
       "      <td>0.956869</td>\n",
       "    </tr>\n",
       "    <tr>\n",
       "      <th>MLPClassifier</th>\n",
       "      <td>0.97442</td>\n",
       "      <td>0.949761</td>\n",
       "      <td>0.952153</td>\n",
       "      <td>0.950776</td>\n",
       "      <td>0.952637</td>\n",
       "      <td>0.952153</td>\n",
       "      <td>0.952018</td>\n",
       "    </tr>\n",
       "  </tbody>\n",
       "</table>\n",
       "</div>"
      ]
     },
     "execution_count": 545,
     "metadata": {},
     "output_type": "execute_result"
    }
   ],
   "execution_count": 545
  }
 ]
}
