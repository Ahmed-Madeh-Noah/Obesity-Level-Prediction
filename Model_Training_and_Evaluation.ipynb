{
 "nbformat": 4,
 "nbformat_minor": 0,
 "metadata": {
  "colab": {
   "provenance": []
  },
  "kernelspec": {
   "name": "python3",
   "display_name": "Python 3 (ipykernel)",
   "language": "python"
  },
  "language_info": {
   "name": "python"
  }
 },
 "cells": [
  {
   "metadata": {},
   "cell_type": "markdown",
   "source": [
    "# Obesity Classification Model Training and Evaluation Notebook\n",
    "This notebook handles:\n",
    "- Model Training\n",
    "- Hyper-Parameter Tuning\n",
    "- Model Evaluation"
   ]
  },
  {
   "metadata": {
    "ExecuteTime": {
     "end_time": "2025-04-17T21:50:15.263605Z",
     "start_time": "2025-04-17T21:50:14.540826Z"
    }
   },
   "cell_type": "code",
   "source": [
    "import pandas as pd\n",
    "from narwhals import Boolean\n",
    "\n",
    "X_train = pd.read_csv(\"data/preprocessed data/X_train.csv\")\n",
    "X_val = pd.read_csv(\"data/preprocessed data/X_val.csv\")\n",
    "X_test = pd.read_csv(\"data/preprocessed data/X_test.csv\")\n",
    "y_train = pd.read_csv(\"data/preprocessed data/y_train.csv\", header=None).to_numpy().ravel()\n",
    "y_val = pd.read_csv(\"data/preprocessed data/y_val.csv\", header=None).to_numpy().ravel()\n",
    "y_test = pd.read_csv(\"data/preprocessed data/y_test.csv\", header=None).to_numpy().ravel()\n",
    "X_train.shape, X_val.shape, X_test.shape, y_train.shape, y_val.shape, y_test.shape"
   ],
   "outputs": [
    {
     "data": {
      "text/plain": [
       "((1251, 21), (418, 21), (418, 21), (1251,), (418,), (418,))"
      ]
     },
     "execution_count": 1,
     "metadata": {},
     "output_type": "execute_result"
    }
   ],
   "execution_count": 1
  },
  {
   "metadata": {},
   "cell_type": "markdown",
   "source": "## Model Evaluation"
  },
  {
   "metadata": {
    "ExecuteTime": {
     "end_time": "2025-04-17T21:50:15.295085Z",
     "start_time": "2025-04-17T21:50:15.279410Z"
    }
   },
   "cell_type": "code",
   "source": [
    "model_evaluations = pd.DataFrame(\n",
    "    columns=[\"Train_Accuracy\", \"Val_Accuracy\", \"Test_Accuracy\", \"Balanced_Accuracy\", \"Precision\", \"Recall\", \"F1_Score\"])\n",
    "model_evaluations.index.name = \"Model\"\n",
    "model_evaluations.head()"
   ],
   "outputs": [
    {
     "data": {
      "text/plain": [
       "Empty DataFrame\n",
       "Columns: [Train_Accuracy, Val_Accuracy, Test_Accuracy, Balanced_Accuracy, Precision, Recall, F1_Score]\n",
       "Index: []"
      ],
      "text/html": [
       "<div>\n",
       "<style scoped>\n",
       "    .dataframe tbody tr th:only-of-type {\n",
       "        vertical-align: middle;\n",
       "    }\n",
       "\n",
       "    .dataframe tbody tr th {\n",
       "        vertical-align: top;\n",
       "    }\n",
       "\n",
       "    .dataframe thead th {\n",
       "        text-align: right;\n",
       "    }\n",
       "</style>\n",
       "<table border=\"1\" class=\"dataframe\">\n",
       "  <thead>\n",
       "    <tr style=\"text-align: right;\">\n",
       "      <th></th>\n",
       "      <th>Train_Accuracy</th>\n",
       "      <th>Val_Accuracy</th>\n",
       "      <th>Test_Accuracy</th>\n",
       "      <th>Balanced_Accuracy</th>\n",
       "      <th>Precision</th>\n",
       "      <th>Recall</th>\n",
       "      <th>F1_Score</th>\n",
       "    </tr>\n",
       "    <tr>\n",
       "      <th>Model</th>\n",
       "      <th></th>\n",
       "      <th></th>\n",
       "      <th></th>\n",
       "      <th></th>\n",
       "      <th></th>\n",
       "      <th></th>\n",
       "      <th></th>\n",
       "    </tr>\n",
       "  </thead>\n",
       "  <tbody>\n",
       "  </tbody>\n",
       "</table>\n",
       "</div>"
      ]
     },
     "execution_count": 2,
     "metadata": {},
     "output_type": "execute_result"
    }
   ],
   "execution_count": 2
  },
  {
   "metadata": {
    "ExecuteTime": {
     "end_time": "2025-04-17T21:50:16.109979Z",
     "start_time": "2025-04-17T21:50:15.525223Z"
    }
   },
   "cell_type": "code",
   "source": [
    "from sklearn.base import BaseEstimator\n",
    "from sklearn.metrics import accuracy_score, balanced_accuracy_score, precision_score, recall_score, f1_score\n",
    "import joblib\n",
    "\n",
    "\n",
    "def evaluate_model(model_name: str, model: BaseEstimator) -> None:\n",
    "    model.fit(X_train, y_train)\n",
    "    train_pred = model.predict(X_train)\n",
    "    val_pred = model.predict(X_val)\n",
    "    test_pred = model.predict(X_test)\n",
    "    model_evaluations.loc[model_name, \"Train_Accuracy\"] = accuracy_score(y_train, train_pred)\n",
    "    model_evaluations.loc[model_name, \"Val_Accuracy\"] = accuracy_score(y_val, val_pred)\n",
    "    model_evaluations.loc[model_name, \"Test_Accuracy\"] = accuracy_score(y_test, test_pred)\n",
    "    model_evaluations.loc[model_name, \"Balanced_Accuracy\"] = balanced_accuracy_score(y_test, test_pred)\n",
    "    model_evaluations.loc[model_name, \"Precision\"] = precision_score(y_test, test_pred, average=\"weighted\",\n",
    "                                                                     zero_division=0)\n",
    "    model_evaluations.loc[model_name, \"Recall\"] = recall_score(y_test, test_pred, average=\"weighted\", zero_division=0)\n",
    "    model_evaluations.loc[model_name, \"F1_Score\"] = f1_score(y_test, test_pred, average=\"weighted\", zero_division=0)\n",
    "    joblib.dump(model, f\"models/{model_name}.pkl\")\n",
    "    return model_evaluations.loc[model_name]"
   ],
   "outputs": [],
   "execution_count": 3
  },
  {
   "metadata": {},
   "cell_type": "markdown",
   "source": "## GridSearch Cross-Validation Hyper-Parameter Tuning"
  },
  {
   "metadata": {
    "ExecuteTime": {
     "end_time": "2025-04-17T21:50:16.141586Z",
     "start_time": "2025-04-17T21:50:16.115102Z"
    }
   },
   "cell_type": "code",
   "source": [
    "from sklearn.model_selection import GridSearchCV\n",
    "\n",
    "\n",
    "def hyper_parameter_tune(model: BaseEstimator, param_grid: dict, verbose: bool = True) -> BaseEstimator:\n",
    "    grid_search = GridSearchCV(model, param_grid, n_jobs=-1)\n",
    "    grid_search.fit(X_train, y_train)\n",
    "    if verbose:\n",
    "        print(grid_search.best_params_)\n",
    "    return grid_search.best_estimator_"
   ],
   "outputs": [],
   "execution_count": 4
  },
  {
   "metadata": {},
   "cell_type": "markdown",
   "source": "## Model Training"
  },
  {
   "metadata": {},
   "cell_type": "markdown",
   "source": "### Gaussian Naive Bayes Classifier"
  },
  {
   "metadata": {
    "ExecuteTime": {
     "end_time": "2025-04-17T21:50:19.304354Z",
     "start_time": "2025-04-17T21:50:16.175056Z"
    }
   },
   "cell_type": "code",
   "source": [
    "from sklearn.naive_bayes import GaussianNB\n",
    "\n",
    "GaussianNB_model = GaussianNB()\n",
    "params = {\"var_smoothing\": [1e-9, 1e-6, 1e-3, 1e-2, 1e-1]}\n",
    "GaussianNB_model = hyper_parameter_tune(GaussianNB_model, params)\n",
    "evaluate_model(\"GaussianNB\", GaussianNB_model)"
   ],
   "outputs": [
    {
     "name": "stdout",
     "output_type": "stream",
     "text": [
      "{'var_smoothing': 0.01}\n"
     ]
    },
    {
     "data": {
      "text/plain": [
       "Train_Accuracy       0.821743\n",
       "Val_Accuracy         0.794258\n",
       "Test_Accuracy        0.811005\n",
       "Balanced_Accuracy    0.810421\n",
       "Precision            0.806936\n",
       "Recall               0.811005\n",
       "F1_Score              0.80523\n",
       "Name: GaussianNB, dtype: object"
      ]
     },
     "execution_count": 5,
     "metadata": {},
     "output_type": "execute_result"
    }
   ],
   "execution_count": 5
  },
  {
   "metadata": {},
   "cell_type": "markdown",
   "source": "### Logistic Regression Classifier"
  },
  {
   "metadata": {
    "ExecuteTime": {
     "end_time": "2025-04-17T21:50:19.822727Z",
     "start_time": "2025-04-17T21:50:19.401664Z"
    }
   },
   "cell_type": "code",
   "source": [
    "from sklearn.linear_model import LogisticRegression\n",
    "\n",
    "LogisticRegression_model = LogisticRegression(random_state=42, n_jobs=-1)\n",
    "params = {\"C\": [1.0, 0.1, 10]}\n",
    "LogisticRegression_model = hyper_parameter_tune(LogisticRegression_model, params)\n",
    "evaluate_model(\"LogisticRegression\", LogisticRegression_model)"
   ],
   "outputs": [
    {
     "name": "stdout",
     "output_type": "stream",
     "text": [
      "{'C': 10}\n"
     ]
    },
    {
     "data": {
      "text/plain": [
       "Train_Accuracy        0.96243\n",
       "Val_Accuracy         0.949761\n",
       "Test_Accuracy        0.956938\n",
       "Balanced_Accuracy    0.955753\n",
       "Precision            0.957775\n",
       "Recall               0.956938\n",
       "F1_Score             0.956974\n",
       "Name: LogisticRegression, dtype: object"
      ]
     },
     "execution_count": 6,
     "metadata": {},
     "output_type": "execute_result"
    }
   ],
   "execution_count": 6
  },
  {
   "metadata": {},
   "cell_type": "markdown",
   "source": "### K-Nearest Neighbors Classifier"
  },
  {
   "metadata": {
    "ExecuteTime": {
     "end_time": "2025-04-17T21:50:20.776019Z",
     "start_time": "2025-04-17T21:50:19.862245Z"
    }
   },
   "cell_type": "code",
   "source": [
    "from sklearn.neighbors import KNeighborsClassifier\n",
    "\n",
    "KNeighborsClassifier_model = KNeighborsClassifier(n_jobs=-1)\n",
    "params = {\"n_neighbors\": [3, 5, 7]}\n",
    "KNeighborsClassifier_model = hyper_parameter_tune(KNeighborsClassifier_model, params)\n",
    "evaluate_model(\"KNeighborsClassifier\", KNeighborsClassifier_model)"
   ],
   "outputs": [
    {
     "name": "stdout",
     "output_type": "stream",
     "text": [
      "{'n_neighbors': 3}\n"
     ]
    },
    {
     "data": {
      "text/plain": [
       "Train_Accuracy       0.930456\n",
       "Val_Accuracy         0.892344\n",
       "Test_Accuracy         0.84689\n",
       "Balanced_Accuracy    0.840845\n",
       "Precision            0.848875\n",
       "Recall                0.84689\n",
       "F1_Score             0.838273\n",
       "Name: KNeighborsClassifier, dtype: object"
      ]
     },
     "execution_count": 7,
     "metadata": {},
     "output_type": "execute_result"
    }
   ],
   "execution_count": 7
  },
  {
   "metadata": {},
   "cell_type": "markdown",
   "source": "### Decision Tree Classifier"
  },
  {
   "metadata": {
    "ExecuteTime": {
     "end_time": "2025-04-17T21:50:21.023879Z",
     "start_time": "2025-04-17T21:50:20.818181Z"
    }
   },
   "cell_type": "code",
   "source": [
    "from sklearn.tree import DecisionTreeClassifier\n",
    "\n",
    "DecisionTreeClassifier_model = DecisionTreeClassifier(random_state=42)\n",
    "params = {\"max_depth\": [3, 5, 7]}\n",
    "DecisionTreeClassifier_model = hyper_parameter_tune(DecisionTreeClassifier_model, params)\n",
    "evaluate_model(\"DecisionTreeClassifier\", DecisionTreeClassifier_model)"
   ],
   "outputs": [
    {
     "name": "stdout",
     "output_type": "stream",
     "text": [
      "{'max_depth': 7}\n"
     ]
    },
    {
     "data": {
      "text/plain": [
       "Train_Accuracy            1.0\n",
       "Val_Accuracy         0.976077\n",
       "Test_Accuracy        0.978469\n",
       "Balanced_Accuracy    0.976967\n",
       "Precision            0.978897\n",
       "Recall               0.978469\n",
       "F1_Score             0.978374\n",
       "Name: DecisionTreeClassifier, dtype: object"
      ]
     },
     "execution_count": 8,
     "metadata": {},
     "output_type": "execute_result"
    }
   ],
   "execution_count": 8
  },
  {
   "metadata": {},
   "cell_type": "markdown",
   "source": "### Support Vector Classifier"
  },
  {
   "metadata": {
    "ExecuteTime": {
     "end_time": "2025-04-17T21:50:21.385057Z",
     "start_time": "2025-04-17T21:50:21.066964Z"
    }
   },
   "cell_type": "code",
   "source": [
    "from sklearn.svm import SVC\n",
    "\n",
    "SVC_model = SVC(random_state=42)\n",
    "params = {\"kernel\": [\"linear\", \"poly\", \"rbf\"], \"C\": [1.0, 0.5, 1.5]}\n",
    "SVC_model = hyper_parameter_tune(SVC_model, params)\n",
    "evaluate_model(\"SVC\", SVC_model)"
   ],
   "outputs": [
    {
     "name": "stdout",
     "output_type": "stream",
     "text": [
      "{'C': 1.5, 'kernel': 'linear'}\n"
     ]
    },
    {
     "data": {
      "text/plain": [
       "Train_Accuracy       0.972022\n",
       "Val_Accuracy         0.954545\n",
       "Test_Accuracy        0.961722\n",
       "Balanced_Accuracy    0.960664\n",
       "Precision            0.962115\n",
       "Recall               0.961722\n",
       "F1_Score             0.961684\n",
       "Name: SVC, dtype: object"
      ]
     },
     "execution_count": 9,
     "metadata": {},
     "output_type": "execute_result"
    }
   ],
   "execution_count": 9
  },
  {
   "metadata": {},
   "cell_type": "markdown",
   "source": "### Random Forest Classifier"
  },
  {
   "metadata": {
    "ExecuteTime": {
     "end_time": "2025-04-17T21:50:23.050525Z",
     "start_time": "2025-04-17T21:50:21.486824Z"
    }
   },
   "cell_type": "code",
   "source": [
    "from sklearn.ensemble import RandomForestClassifier\n",
    "\n",
    "RandomForestClassifier_model = RandomForestClassifier(max_depth=5, random_state=42, n_jobs=-1)\n",
    "params = {\"ccp_alpha\": [0.01, 0.09, 0.011]}\n",
    "RandomForestClassifier_model = hyper_parameter_tune(RandomForestClassifier_model, params)\n",
    "evaluate_model(\"RandomForestClassifier\", RandomForestClassifier_model)"
   ],
   "outputs": [
    {
     "name": "stdout",
     "output_type": "stream",
     "text": [
      "{'ccp_alpha': 0.011}\n"
     ]
    },
    {
     "data": {
      "text/plain": [
       "Train_Accuracy       0.960831\n",
       "Val_Accuracy         0.956938\n",
       "Test_Accuracy        0.947368\n",
       "Balanced_Accuracy    0.944758\n",
       "Precision            0.947893\n",
       "Recall               0.947368\n",
       "F1_Score             0.946929\n",
       "Name: RandomForestClassifier, dtype: object"
      ]
     },
     "execution_count": 10,
     "metadata": {},
     "output_type": "execute_result"
    }
   ],
   "execution_count": 10
  },
  {
   "metadata": {},
   "cell_type": "markdown",
   "source": "### Gradient Boosting Classifier"
  },
  {
   "metadata": {
    "ExecuteTime": {
     "end_time": "2025-04-17T21:50:34.399903Z",
     "start_time": "2025-04-17T21:50:23.117275Z"
    }
   },
   "cell_type": "code",
   "source": [
    "from sklearn.ensemble import GradientBoostingClassifier\n",
    "\n",
    "GradientBoostingClassifier_model = GradientBoostingClassifier(random_state=42)\n",
    "params = {\"learning_rate\": [0.1, 0.09, 0.11], \"ccp_alpha\": [0.01, 0.09, 0.11]}\n",
    "GradientBoostingClassifier_model = hyper_parameter_tune(GradientBoostingClassifier_model, params)\n",
    "evaluate_model(\"GradientBoostingClassifier\", GradientBoostingClassifier_model)"
   ],
   "outputs": [
    {
     "name": "stdout",
     "output_type": "stream",
     "text": [
      "{'ccp_alpha': 0.01, 'learning_rate': 0.1}\n"
     ]
    },
    {
     "data": {
      "text/plain": [
       "Train_Accuracy       0.965627\n",
       "Val_Accuracy         0.961722\n",
       "Test_Accuracy         0.95933\n",
       "Balanced_Accuracy    0.958763\n",
       "Precision             0.96065\n",
       "Recall                0.95933\n",
       "F1_Score             0.959117\n",
       "Name: GradientBoostingClassifier, dtype: object"
      ]
     },
     "execution_count": 11,
     "metadata": {},
     "output_type": "execute_result"
    }
   ],
   "execution_count": 11
  },
  {
   "metadata": {},
   "cell_type": "markdown",
   "source": "### Multilayer Perceptron Classifier"
  },
  {
   "metadata": {
    "ExecuteTime": {
     "end_time": "2025-04-17T21:50:35.729969Z",
     "start_time": "2025-04-17T21:50:34.494877Z"
    }
   },
   "cell_type": "code",
   "source": [
    "from sklearn.neural_network import MLPClassifier\n",
    "\n",
    "MLPClassifier_model = MLPClassifier(early_stopping=True, random_state=42)\n",
    "params = {\"hidden_layer_sizes\": [(100,), (50, 50), (25, 10, 5)]}\n",
    "MLPClassifier_model = hyper_parameter_tune(MLPClassifier_model, params)\n",
    "evaluate_model(\"MLPClassifier\", MLPClassifier_model)"
   ],
   "outputs": [
    {
     "name": "stdout",
     "output_type": "stream",
     "text": [
      "{'hidden_layer_sizes': (50, 50)}\n"
     ]
    },
    {
     "data": {
      "text/plain": [
       "Train_Accuracy       0.964828\n",
       "Val_Accuracy         0.913876\n",
       "Test_Accuracy        0.937799\n",
       "Balanced_Accuracy      0.9355\n",
       "Precision            0.937798\n",
       "Recall               0.937799\n",
       "F1_Score             0.937682\n",
       "Name: MLPClassifier, dtype: object"
      ]
     },
     "execution_count": 12,
     "metadata": {},
     "output_type": "execute_result"
    }
   ],
   "execution_count": 12
  },
  {
   "metadata": {
    "ExecuteTime": {
     "end_time": "2025-04-17T21:50:35.825373Z",
     "start_time": "2025-04-17T21:50:35.810545Z"
    }
   },
   "cell_type": "code",
   "source": "model_evaluations",
   "outputs": [
    {
     "data": {
      "text/plain": [
       "                           Train_Accuracy Val_Accuracy Test_Accuracy  \\\n",
       "Model                                                                  \n",
       "GaussianNB                       0.821743     0.794258      0.811005   \n",
       "LogisticRegression                0.96243     0.949761      0.956938   \n",
       "KNeighborsClassifier             0.930456     0.892344       0.84689   \n",
       "DecisionTreeClassifier                1.0     0.976077      0.978469   \n",
       "SVC                              0.972022     0.954545      0.961722   \n",
       "RandomForestClassifier           0.960831     0.956938      0.947368   \n",
       "GradientBoostingClassifier       0.965627     0.961722       0.95933   \n",
       "MLPClassifier                    0.964828     0.913876      0.937799   \n",
       "\n",
       "                           Balanced_Accuracy Precision    Recall  F1_Score  \n",
       "Model                                                                       \n",
       "GaussianNB                          0.810421  0.806936  0.811005   0.80523  \n",
       "LogisticRegression                  0.955753  0.957775  0.956938  0.956974  \n",
       "KNeighborsClassifier                0.840845  0.848875   0.84689  0.838273  \n",
       "DecisionTreeClassifier              0.976967  0.978897  0.978469  0.978374  \n",
       "SVC                                 0.960664  0.962115  0.961722  0.961684  \n",
       "RandomForestClassifier              0.944758  0.947893  0.947368  0.946929  \n",
       "GradientBoostingClassifier          0.958763   0.96065   0.95933  0.959117  \n",
       "MLPClassifier                         0.9355  0.937798  0.937799  0.937682  "
      ],
      "text/html": [
       "<div>\n",
       "<style scoped>\n",
       "    .dataframe tbody tr th:only-of-type {\n",
       "        vertical-align: middle;\n",
       "    }\n",
       "\n",
       "    .dataframe tbody tr th {\n",
       "        vertical-align: top;\n",
       "    }\n",
       "\n",
       "    .dataframe thead th {\n",
       "        text-align: right;\n",
       "    }\n",
       "</style>\n",
       "<table border=\"1\" class=\"dataframe\">\n",
       "  <thead>\n",
       "    <tr style=\"text-align: right;\">\n",
       "      <th></th>\n",
       "      <th>Train_Accuracy</th>\n",
       "      <th>Val_Accuracy</th>\n",
       "      <th>Test_Accuracy</th>\n",
       "      <th>Balanced_Accuracy</th>\n",
       "      <th>Precision</th>\n",
       "      <th>Recall</th>\n",
       "      <th>F1_Score</th>\n",
       "    </tr>\n",
       "    <tr>\n",
       "      <th>Model</th>\n",
       "      <th></th>\n",
       "      <th></th>\n",
       "      <th></th>\n",
       "      <th></th>\n",
       "      <th></th>\n",
       "      <th></th>\n",
       "      <th></th>\n",
       "    </tr>\n",
       "  </thead>\n",
       "  <tbody>\n",
       "    <tr>\n",
       "      <th>GaussianNB</th>\n",
       "      <td>0.821743</td>\n",
       "      <td>0.794258</td>\n",
       "      <td>0.811005</td>\n",
       "      <td>0.810421</td>\n",
       "      <td>0.806936</td>\n",
       "      <td>0.811005</td>\n",
       "      <td>0.80523</td>\n",
       "    </tr>\n",
       "    <tr>\n",
       "      <th>LogisticRegression</th>\n",
       "      <td>0.96243</td>\n",
       "      <td>0.949761</td>\n",
       "      <td>0.956938</td>\n",
       "      <td>0.955753</td>\n",
       "      <td>0.957775</td>\n",
       "      <td>0.956938</td>\n",
       "      <td>0.956974</td>\n",
       "    </tr>\n",
       "    <tr>\n",
       "      <th>KNeighborsClassifier</th>\n",
       "      <td>0.930456</td>\n",
       "      <td>0.892344</td>\n",
       "      <td>0.84689</td>\n",
       "      <td>0.840845</td>\n",
       "      <td>0.848875</td>\n",
       "      <td>0.84689</td>\n",
       "      <td>0.838273</td>\n",
       "    </tr>\n",
       "    <tr>\n",
       "      <th>DecisionTreeClassifier</th>\n",
       "      <td>1.0</td>\n",
       "      <td>0.976077</td>\n",
       "      <td>0.978469</td>\n",
       "      <td>0.976967</td>\n",
       "      <td>0.978897</td>\n",
       "      <td>0.978469</td>\n",
       "      <td>0.978374</td>\n",
       "    </tr>\n",
       "    <tr>\n",
       "      <th>SVC</th>\n",
       "      <td>0.972022</td>\n",
       "      <td>0.954545</td>\n",
       "      <td>0.961722</td>\n",
       "      <td>0.960664</td>\n",
       "      <td>0.962115</td>\n",
       "      <td>0.961722</td>\n",
       "      <td>0.961684</td>\n",
       "    </tr>\n",
       "    <tr>\n",
       "      <th>RandomForestClassifier</th>\n",
       "      <td>0.960831</td>\n",
       "      <td>0.956938</td>\n",
       "      <td>0.947368</td>\n",
       "      <td>0.944758</td>\n",
       "      <td>0.947893</td>\n",
       "      <td>0.947368</td>\n",
       "      <td>0.946929</td>\n",
       "    </tr>\n",
       "    <tr>\n",
       "      <th>GradientBoostingClassifier</th>\n",
       "      <td>0.965627</td>\n",
       "      <td>0.961722</td>\n",
       "      <td>0.95933</td>\n",
       "      <td>0.958763</td>\n",
       "      <td>0.96065</td>\n",
       "      <td>0.95933</td>\n",
       "      <td>0.959117</td>\n",
       "    </tr>\n",
       "    <tr>\n",
       "      <th>MLPClassifier</th>\n",
       "      <td>0.964828</td>\n",
       "      <td>0.913876</td>\n",
       "      <td>0.937799</td>\n",
       "      <td>0.9355</td>\n",
       "      <td>0.937798</td>\n",
       "      <td>0.937799</td>\n",
       "      <td>0.937682</td>\n",
       "    </tr>\n",
       "  </tbody>\n",
       "</table>\n",
       "</div>"
      ]
     },
     "execution_count": 13,
     "metadata": {},
     "output_type": "execute_result"
    }
   ],
   "execution_count": 13
  }
 ]
}
