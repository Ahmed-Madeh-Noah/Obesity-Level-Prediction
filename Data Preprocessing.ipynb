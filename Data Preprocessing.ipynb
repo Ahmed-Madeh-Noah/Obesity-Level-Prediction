{
 "cells": [
  {
   "metadata": {},
   "cell_type": "markdown",
   "source": [
    "# Obesity Dataset Preprocessing Notebook\n",
    "This notebook handles:\n",
    "- Splitting Train and Test Data\n",
    "- Scaling Numerical Features\n",
    "- Encoding Categorical Features"
   ],
   "id": "b091183aa41b9f50"
  },
  {
   "metadata": {
    "ExecuteTime": {
     "end_time": "2025-04-15T19:21:37.979149Z",
     "start_time": "2025-04-15T19:21:37.961927Z"
    }
   },
   "cell_type": "code",
   "source": [
    "import pandas as pd\n",
    "\n",
    "df = pd.read_csv(\"data/Obesity Dataset - Engineered.csv\")\n",
    "df.head()"
   ],
   "id": "5244c4669b253f2e",
   "outputs": [
    {
     "data": {
      "text/plain": [
       "   Gender  Age  Height  Weight Overweight_Family_History  \\\n",
       "0  female   21    1.62    64.0                       yes   \n",
       "1  female   21    1.52    56.0                       yes   \n",
       "2    male   23    1.80    77.0                       yes   \n",
       "3    male   27    1.80    87.0                        no   \n",
       "4    male   22    1.78    89.8                        no   \n",
       "\n",
       "  High_Calorie_Consumption  Vegetable_Consumption  Main_Meals  \\\n",
       "0                       no                    2.0         3.0   \n",
       "1                       no                    3.0         3.0   \n",
       "2                       no                    2.0         3.0   \n",
       "3                       no                    3.0         3.0   \n",
       "4                       no                    2.0         1.0   \n",
       "\n",
       "  Snack_Consumption Smoker  Water_Intake Calorie_Monitoring  \\\n",
       "0         sometimes     no           2.0                 no   \n",
       "1         sometimes    yes           3.0                yes   \n",
       "2         sometimes     no           2.0                 no   \n",
       "3         sometimes     no           2.0                 no   \n",
       "4         sometimes     no           2.0                 no   \n",
       "\n",
       "   Physical_Activity  Tech_Time Alcohol_Consumption    Transportation_Mean  \\\n",
       "0                0.0        1.0                  no  public_transportation   \n",
       "1                3.0        0.0           sometimes  public_transportation   \n",
       "2                2.0        1.0          frequently  public_transportation   \n",
       "3                2.0        0.0          frequently                walking   \n",
       "4                0.0        0.0           sometimes  public_transportation   \n",
       "\n",
       "         Obesity_Level        BMI     BMR  \n",
       "0        normal_weight  24.386526  1386.5  \n",
       "1        normal_weight  24.238227  1244.0  \n",
       "2        normal_weight  23.765432  1785.0  \n",
       "3   overweight_level_i  26.851852  1865.0  \n",
       "4  overweight_level_ii  28.342381  1905.5  "
      ],
      "text/html": [
       "<div>\n",
       "<style scoped>\n",
       "    .dataframe tbody tr th:only-of-type {\n",
       "        vertical-align: middle;\n",
       "    }\n",
       "\n",
       "    .dataframe tbody tr th {\n",
       "        vertical-align: top;\n",
       "    }\n",
       "\n",
       "    .dataframe thead th {\n",
       "        text-align: right;\n",
       "    }\n",
       "</style>\n",
       "<table border=\"1\" class=\"dataframe\">\n",
       "  <thead>\n",
       "    <tr style=\"text-align: right;\">\n",
       "      <th></th>\n",
       "      <th>Gender</th>\n",
       "      <th>Age</th>\n",
       "      <th>Height</th>\n",
       "      <th>Weight</th>\n",
       "      <th>Overweight_Family_History</th>\n",
       "      <th>High_Calorie_Consumption</th>\n",
       "      <th>Vegetable_Consumption</th>\n",
       "      <th>Main_Meals</th>\n",
       "      <th>Snack_Consumption</th>\n",
       "      <th>Smoker</th>\n",
       "      <th>Water_Intake</th>\n",
       "      <th>Calorie_Monitoring</th>\n",
       "      <th>Physical_Activity</th>\n",
       "      <th>Tech_Time</th>\n",
       "      <th>Alcohol_Consumption</th>\n",
       "      <th>Transportation_Mean</th>\n",
       "      <th>Obesity_Level</th>\n",
       "      <th>BMI</th>\n",
       "      <th>BMR</th>\n",
       "    </tr>\n",
       "  </thead>\n",
       "  <tbody>\n",
       "    <tr>\n",
       "      <th>0</th>\n",
       "      <td>female</td>\n",
       "      <td>21</td>\n",
       "      <td>1.62</td>\n",
       "      <td>64.0</td>\n",
       "      <td>yes</td>\n",
       "      <td>no</td>\n",
       "      <td>2.0</td>\n",
       "      <td>3.0</td>\n",
       "      <td>sometimes</td>\n",
       "      <td>no</td>\n",
       "      <td>2.0</td>\n",
       "      <td>no</td>\n",
       "      <td>0.0</td>\n",
       "      <td>1.0</td>\n",
       "      <td>no</td>\n",
       "      <td>public_transportation</td>\n",
       "      <td>normal_weight</td>\n",
       "      <td>24.386526</td>\n",
       "      <td>1386.5</td>\n",
       "    </tr>\n",
       "    <tr>\n",
       "      <th>1</th>\n",
       "      <td>female</td>\n",
       "      <td>21</td>\n",
       "      <td>1.52</td>\n",
       "      <td>56.0</td>\n",
       "      <td>yes</td>\n",
       "      <td>no</td>\n",
       "      <td>3.0</td>\n",
       "      <td>3.0</td>\n",
       "      <td>sometimes</td>\n",
       "      <td>yes</td>\n",
       "      <td>3.0</td>\n",
       "      <td>yes</td>\n",
       "      <td>3.0</td>\n",
       "      <td>0.0</td>\n",
       "      <td>sometimes</td>\n",
       "      <td>public_transportation</td>\n",
       "      <td>normal_weight</td>\n",
       "      <td>24.238227</td>\n",
       "      <td>1244.0</td>\n",
       "    </tr>\n",
       "    <tr>\n",
       "      <th>2</th>\n",
       "      <td>male</td>\n",
       "      <td>23</td>\n",
       "      <td>1.80</td>\n",
       "      <td>77.0</td>\n",
       "      <td>yes</td>\n",
       "      <td>no</td>\n",
       "      <td>2.0</td>\n",
       "      <td>3.0</td>\n",
       "      <td>sometimes</td>\n",
       "      <td>no</td>\n",
       "      <td>2.0</td>\n",
       "      <td>no</td>\n",
       "      <td>2.0</td>\n",
       "      <td>1.0</td>\n",
       "      <td>frequently</td>\n",
       "      <td>public_transportation</td>\n",
       "      <td>normal_weight</td>\n",
       "      <td>23.765432</td>\n",
       "      <td>1785.0</td>\n",
       "    </tr>\n",
       "    <tr>\n",
       "      <th>3</th>\n",
       "      <td>male</td>\n",
       "      <td>27</td>\n",
       "      <td>1.80</td>\n",
       "      <td>87.0</td>\n",
       "      <td>no</td>\n",
       "      <td>no</td>\n",
       "      <td>3.0</td>\n",
       "      <td>3.0</td>\n",
       "      <td>sometimes</td>\n",
       "      <td>no</td>\n",
       "      <td>2.0</td>\n",
       "      <td>no</td>\n",
       "      <td>2.0</td>\n",
       "      <td>0.0</td>\n",
       "      <td>frequently</td>\n",
       "      <td>walking</td>\n",
       "      <td>overweight_level_i</td>\n",
       "      <td>26.851852</td>\n",
       "      <td>1865.0</td>\n",
       "    </tr>\n",
       "    <tr>\n",
       "      <th>4</th>\n",
       "      <td>male</td>\n",
       "      <td>22</td>\n",
       "      <td>1.78</td>\n",
       "      <td>89.8</td>\n",
       "      <td>no</td>\n",
       "      <td>no</td>\n",
       "      <td>2.0</td>\n",
       "      <td>1.0</td>\n",
       "      <td>sometimes</td>\n",
       "      <td>no</td>\n",
       "      <td>2.0</td>\n",
       "      <td>no</td>\n",
       "      <td>0.0</td>\n",
       "      <td>0.0</td>\n",
       "      <td>sometimes</td>\n",
       "      <td>public_transportation</td>\n",
       "      <td>overweight_level_ii</td>\n",
       "      <td>28.342381</td>\n",
       "      <td>1905.5</td>\n",
       "    </tr>\n",
       "  </tbody>\n",
       "</table>\n",
       "</div>"
      ]
     },
     "execution_count": 71,
     "metadata": {},
     "output_type": "execute_result"
    }
   ],
   "execution_count": 71
  },
  {
   "metadata": {},
   "cell_type": "markdown",
   "source": "## Train Test Splitting",
   "id": "ab4b930cdbb2e941"
  },
  {
   "metadata": {
    "ExecuteTime": {
     "end_time": "2025-04-15T19:21:38.015338Z",
     "start_time": "2025-04-15T19:21:38.008464Z"
    }
   },
   "cell_type": "code",
   "source": [
    "from sklearn.model_selection import train_test_split\n",
    "\n",
    "target = \"Obesity_Level\"\n",
    "X = df.drop(target, axis=1)\n",
    "y = df[target]\n",
    "X_train, X_test, y_train, y_test = train_test_split(X, y, test_size=0.2, random_state=42)\n",
    "X_train.shape, X_test.shape, y_train.shape, y_test.shape"
   ],
   "id": "a91a49af8d6e6a5d",
   "outputs": [
    {
     "data": {
      "text/plain": [
       "((1669, 18), (418, 18), (1669,), (418,))"
      ]
     },
     "execution_count": 72,
     "metadata": {},
     "output_type": "execute_result"
    }
   ],
   "execution_count": 72
  },
  {
   "metadata": {},
   "cell_type": "markdown",
   "source": "## X Preprocessor Scaling and Encoding",
   "id": "8b82a6856c00fb8"
  },
  {
   "metadata": {
    "ExecuteTime": {
     "end_time": "2025-04-15T19:21:38.053239Z",
     "start_time": "2025-04-15T19:21:38.047255Z"
    }
   },
   "cell_type": "code",
   "source": [
    "numerical_columns = df.select_dtypes(exclude=[\"object\"]).columns.tolist()\n",
    "categorical_columns = df.select_dtypes(include=[\"object\"]).columns.tolist()\n",
    "categorical_columns.remove(target)\n",
    "numerical_columns, categorical_columns"
   ],
   "id": "a6e8faa3d8cb0175",
   "outputs": [
    {
     "data": {
      "text/plain": [
       "(['Age',\n",
       "  'Height',\n",
       "  'Weight',\n",
       "  'Vegetable_Consumption',\n",
       "  'Main_Meals',\n",
       "  'Water_Intake',\n",
       "  'Physical_Activity',\n",
       "  'Tech_Time',\n",
       "  'BMI',\n",
       "  'BMR'],\n",
       " ['Gender',\n",
       "  'Overweight_Family_History',\n",
       "  'High_Calorie_Consumption',\n",
       "  'Snack_Consumption',\n",
       "  'Smoker',\n",
       "  'Calorie_Monitoring',\n",
       "  'Alcohol_Consumption',\n",
       "  'Transportation_Mean'])"
      ]
     },
     "execution_count": 73,
     "metadata": {},
     "output_type": "execute_result"
    }
   ],
   "execution_count": 73
  },
  {
   "metadata": {
    "ExecuteTime": {
     "end_time": "2025-04-15T19:21:38.124594Z",
     "start_time": "2025-04-15T19:21:38.106818Z"
    }
   },
   "cell_type": "code",
   "source": [
    "from sklearn.compose import ColumnTransformer\n",
    "from sklearn.preprocessing import StandardScaler, OneHotEncoder\n",
    "\n",
    "preprocessor = ColumnTransformer(transformers=[\n",
    "    (\"Scale\", StandardScaler(), numerical_columns),\n",
    "    (\"Encode\", OneHotEncoder(), categorical_columns),\n",
    "])\n",
    "X_train = preprocessor.fit_transform(X_train)\n",
    "X_test = preprocessor.transform(X_test)\n",
    "X_train.shape, X_test.shape"
   ],
   "id": "8f440887ffea8db5",
   "outputs": [
    {
     "data": {
      "text/plain": [
       "((1669, 33), (418, 33))"
      ]
     },
     "execution_count": 74,
     "metadata": {},
     "output_type": "execute_result"
    }
   ],
   "execution_count": 74
  },
  {
   "metadata": {
    "ExecuteTime": {
     "end_time": "2025-04-15T19:21:38.158060Z",
     "start_time": "2025-04-15T19:21:38.151746Z"
    }
   },
   "cell_type": "code",
   "source": [
    "import joblib\n",
    "\n",
    "joblib.dump(preprocessor, \"preprocessors/X_preprocessor.pkl\")"
   ],
   "id": "e5613e32358aebf5",
   "outputs": [
    {
     "data": {
      "text/plain": [
       "['preprocessors/X_preprocessor.pkl']"
      ]
     },
     "execution_count": 75,
     "metadata": {},
     "output_type": "execute_result"
    }
   ],
   "execution_count": 75
  },
  {
   "metadata": {},
   "cell_type": "markdown",
   "source": "## y Encoding",
   "id": "3338b6da88b81992"
  },
  {
   "metadata": {
    "ExecuteTime": {
     "end_time": "2025-04-15T19:21:38.199996Z",
     "start_time": "2025-04-15T19:21:38.194629Z"
    }
   },
   "cell_type": "code",
   "source": "df[target].unique()",
   "id": "cc192418f29cdcdb",
   "outputs": [
    {
     "data": {
      "text/plain": [
       "array(['normal_weight', 'overweight_level_i', 'overweight_level_ii',\n",
       "       'obesity_type_i', 'insufficient_weight', 'obesity_type_ii',\n",
       "       'obesity_type_iii'], dtype=object)"
      ]
     },
     "execution_count": 76,
     "metadata": {},
     "output_type": "execute_result"
    }
   ],
   "execution_count": 76
  },
  {
   "metadata": {
    "ExecuteTime": {
     "end_time": "2025-04-15T19:21:38.233356Z",
     "start_time": "2025-04-15T19:21:38.226333Z"
    }
   },
   "cell_type": "code",
   "source": [
    "target_order = [\"insufficient_weight\", \"normal_weight\", \"overweight_level_i\", \"overweight_level_ii\", \"obesity_type_i\",\n",
    "                \"obesity_type_ii\", \"obesity_type_iii\"]\n",
    "from sklearn.preprocessing import OrdinalEncoder\n",
    "\n",
    "y_encoder = OrdinalEncoder(categories=[target_order])\n",
    "y_train = y_encoder.fit_transform(y_train.values.reshape(-1, 1)).ravel()\n",
    "y_test = y_encoder.transform(y_test.values.reshape(-1, 1)).ravel()\n",
    "y_train.shape, y_test.shape"
   ],
   "id": "f59a7e26074ff944",
   "outputs": [
    {
     "data": {
      "text/plain": [
       "((1669,), (418,))"
      ]
     },
     "execution_count": 77,
     "metadata": {},
     "output_type": "execute_result"
    }
   ],
   "execution_count": 77
  },
  {
   "metadata": {
    "ExecuteTime": {
     "end_time": "2025-04-15T19:21:38.266920Z",
     "start_time": "2025-04-15T19:21:38.262281Z"
    }
   },
   "cell_type": "code",
   "source": "joblib.dump(y_encoder, \"preprocessors/y_encoder.pkl\")",
   "id": "a96d19f6997ccc4b",
   "outputs": [
    {
     "data": {
      "text/plain": [
       "['preprocessors/y_encoder.pkl']"
      ]
     },
     "execution_count": 78,
     "metadata": {},
     "output_type": "execute_result"
    }
   ],
   "execution_count": 78
  },
  {
   "metadata": {},
   "cell_type": "markdown",
   "source": "## Train and Test Data Saving",
   "id": "be6344e814ab37aa"
  },
  {
   "metadata": {
    "ExecuteTime": {
     "end_time": "2025-04-15T19:21:38.299387Z",
     "start_time": "2025-04-15T19:21:38.294134Z"
    }
   },
   "cell_type": "code",
   "source": [
    "encoded_feature_names = preprocessor.transformers_[1][1].get_feature_names_out(categorical_columns)\n",
    "column_names = list(numerical_columns) + list(encoded_feature_names)\n",
    "column_names"
   ],
   "id": "2d4943791923f6f",
   "outputs": [
    {
     "data": {
      "text/plain": [
       "['Age',\n",
       " 'Height',\n",
       " 'Weight',\n",
       " 'Vegetable_Consumption',\n",
       " 'Main_Meals',\n",
       " 'Water_Intake',\n",
       " 'Physical_Activity',\n",
       " 'Tech_Time',\n",
       " 'BMI',\n",
       " 'BMR',\n",
       " 'Gender_female',\n",
       " 'Gender_male',\n",
       " 'Overweight_Family_History_no',\n",
       " 'Overweight_Family_History_yes',\n",
       " 'High_Calorie_Consumption_no',\n",
       " 'High_Calorie_Consumption_yes',\n",
       " 'Snack_Consumption_always',\n",
       " 'Snack_Consumption_frequently',\n",
       " 'Snack_Consumption_no',\n",
       " 'Snack_Consumption_sometimes',\n",
       " 'Smoker_no',\n",
       " 'Smoker_yes',\n",
       " 'Calorie_Monitoring_no',\n",
       " 'Calorie_Monitoring_yes',\n",
       " 'Alcohol_Consumption_always',\n",
       " 'Alcohol_Consumption_frequently',\n",
       " 'Alcohol_Consumption_no',\n",
       " 'Alcohol_Consumption_sometimes',\n",
       " 'Transportation_Mean_automobile',\n",
       " 'Transportation_Mean_bike',\n",
       " 'Transportation_Mean_motorbike',\n",
       " 'Transportation_Mean_public_transportation',\n",
       " 'Transportation_Mean_walking']"
      ]
     },
     "execution_count": 79,
     "metadata": {},
     "output_type": "execute_result"
    }
   ],
   "execution_count": 79
  },
  {
   "metadata": {
    "ExecuteTime": {
     "end_time": "2025-04-15T19:21:38.331282Z",
     "start_time": "2025-04-15T19:21:38.327527Z"
    }
   },
   "cell_type": "code",
   "source": [
    "X_train_df = pd.DataFrame(X_train, columns=column_names)\n",
    "X_test_df = pd.DataFrame(X_test, columns=column_names)\n",
    "y_train_df = pd.DataFrame(y_train)\n",
    "y_test_df = pd.DataFrame(y_test)"
   ],
   "id": "111c7300574e72ae",
   "outputs": [],
   "execution_count": 80
  },
  {
   "metadata": {
    "ExecuteTime": {
     "end_time": "2025-04-15T19:21:38.401794Z",
     "start_time": "2025-04-15T19:21:38.359170Z"
    }
   },
   "cell_type": "code",
   "source": [
    "X_train_df.to_csv(\"preprocessed data/X_train.csv\", index=False)\n",
    "X_test_df.to_csv(\"preprocessed data/X_test.csv\", index=False)\n",
    "y_train_df.to_csv(\"preprocessed data/y_train.csv\", header=False, index=False)\n",
    "y_test_df.to_csv(\"preprocessed data/y_test.csv\", header=False, index=False)"
   ],
   "id": "e17cd79aecdc2dc6",
   "outputs": [],
   "execution_count": 81
  }
 ],
 "metadata": {
  "kernelspec": {
   "display_name": "Python 3",
   "language": "python",
   "name": "python3"
  },
  "language_info": {
   "codemirror_mode": {
    "name": "ipython",
    "version": 2
   },
   "file_extension": ".py",
   "mimetype": "text/x-python",
   "name": "python",
   "nbconvert_exporter": "python",
   "pygments_lexer": "ipython2",
   "version": "2.7.6"
  }
 },
 "nbformat": 4,
 "nbformat_minor": 5
}
