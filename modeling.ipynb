{
  "nbformat": 4,
  "nbformat_minor": 0,
  "metadata": {
    "colab": {
      "provenance": []
    },
    "kernelspec": {
      "name": "python3",
      "display_name": "Python 3"
    },
    "language_info": {
      "name": "python"
    }
  },
  "cells": [
    {
      "cell_type": "code",
      "execution_count": null,
      "metadata": {
        "id": "NjYaM4Hr8DIW"
      },
      "outputs": [],
      "source": [
        "import pandas as pd\n",
        "import numpy as np\n"
      ]
    },
    {
      "cell_type": "code",
      "source": [
        "data=pd.read_csv('/content/preprocessed_obesity_dataset.csv')\n",
        "data.columns\n"
      ],
      "metadata": {
        "colab": {
          "base_uri": "https://localhost:8080/"
        },
        "id": "IVxoj6Ss8Ml4",
        "outputId": "097c8ba2-40de-4679-f7b5-59120a75fefb"
      },
      "execution_count": null,
      "outputs": [
        {
          "output_type": "execute_result",
          "data": {
            "text/plain": [
              "Index(['Gender', 'Age', 'Height', 'Weight', 'Overweight_Family_History',\n",
              "       'High_Calorie_Consumption', 'Vegetable_Consumption', 'Main_Meals',\n",
              "       'Snack_Consumption', 'Smoker', 'Water_Intake', 'Calorie_Monitoring',\n",
              "       'Physical_Activity', 'Tech_Time', 'Alcohol_Consumption',\n",
              "       'Obesity_Level', 'Transportation_Mean_Bike',\n",
              "       'Transportation_Mean_Motorbike',\n",
              "       'Transportation_Mean_Public_Transportation',\n",
              "       'Transportation_Mean_Walking'],\n",
              "      dtype='object')"
            ]
          },
          "metadata": {},
          "execution_count": 55
        }
      ]
    },
    {
      "cell_type": "code",
      "source": [
        "x=data.drop(['Obesity_Level'],axis=1)\n",
        "y=data['Obesity_Level']"
      ],
      "metadata": {
        "id": "7Q6Vqnpw-vAb"
      },
      "execution_count": null,
      "outputs": []
    },
    {
      "cell_type": "code",
      "source": [
        "from sklearn.model_selection import train_test_split,GridSearchCV\n",
        "from sklearn.metrics import accuracy_score,classification_report\n",
        "from sklearn.linear_model import LogisticRegression\n",
        "from sklearn.neighbors import KNeighborsClassifier\n",
        "from sklearn.naive_bayes import GaussianNB\n",
        "from sklearn.tree import DecisionTreeClassifier\n",
        "from sklearn.ensemble import RandomForestClassifier, GradientBoostingClassifier\n",
        "from sklearn.svm import SVC\n",
        "from sklearn.neural_network import MLPClassifier\n"
      ],
      "metadata": {
        "id": "4g9ai4N8_UoK"
      },
      "execution_count": null,
      "outputs": []
    },
    {
      "cell_type": "code",
      "source": [
        "X_train_full, X_test, y_train_full, y_test = train_test_split(x, y, test_size=0.2, random_state=42)\n",
        "X_train, X_val, y_train, y_val = train_test_split(X_train_full, y_train_full, test_size=0.25, random_state=42)\n",
        "\n"
      ],
      "metadata": {
        "id": "Dmot4RY9-yH6"
      },
      "execution_count": null,
      "outputs": []
    },
    {
      "cell_type": "code",
      "source": [
        "models = {\n",
        "    \"Logistic Regression\": (LogisticRegression(max_iter=1000), {\n",
        "        'C': [0.1, 1, 10]\n",
        "    }),\n",
        "    \"KNN\": (KNeighborsClassifier(), {\n",
        "        'n_neighbors': [3, 5, 7]\n",
        "    }),\n",
        "    \"Naive Bayes\": (GaussianNB(), {}),  # No hyperparameters to tune\n",
        "    \"Decision Tree\": (DecisionTreeClassifier(), {\n",
        "        'max_depth': [3, 5, 10, None]\n",
        "    }),\n",
        "    \"Random Forest\": (RandomForestClassifier(), {\n",
        "        'n_estimators': [50, 100,150],\n",
        "        'max_depth': [5, 10, None]\n",
        "    }),\n",
        "    \"Gradient Boosting\": (GradientBoostingClassifier(), {\n",
        "        'n_estimators': [50, 100,150],\n",
        "        'learning_rate': [0.001,0.01, 0.1]\n",
        "    }),\n",
        "    \"SVM\": (SVC(), {\n",
        "        'C': [0.1, 1, 10,100],\n",
        "        'kernel': ['linear', 'rbf','poly']\n",
        "    }),\n",
        "    \"MLP Classifier\": (MLPClassifier(max_iter=1000), {\n",
        "        'hidden_layer_sizes': [(50,), (100,), (50, 50)],\n",
        "        'alpha': [0.0001, 0.001]\n",
        "    })\n",
        "}\n"
      ],
      "metadata": {
        "id": "1MMsmpOnAnR-"
      },
      "execution_count": null,
      "outputs": []
    },
    {
      "cell_type": "code",
      "source": [
        "for name, (model, params) in models.items():\n",
        "    if params:\n",
        "        grid = GridSearchCV(model, params, cv=3, scoring='accuracy', n_jobs=-1)\n",
        "        grid.fit(X_train, y_train)\n",
        "        best_model = grid.best_estimator_\n",
        "    else:\n",
        "        model.fit(X_train, y_train)\n",
        "        best_model = model\n",
        "\n",
        "    val_preds = best_model.predict(X_val)\n",
        "    test_preds = best_model.predict(X_test)\n",
        "\n",
        "    val_acc = accuracy_score(y_val, val_preds)\n",
        "    test_acc = accuracy_score(y_test, test_preds)\n",
        "\n",
        "    print(f\"{name} | Validation Acc: {val_acc:.4f} | Test Acc: {test_acc:.4f}\")\n",
        "    print(\"\\nClassification Report (Test Set):\")\n",
        "    print(classification_report(y_test, test_preds))"
      ],
      "metadata": {
        "colab": {
          "base_uri": "https://localhost:8080/"
        },
        "id": "oHBVARb_AtWH",
        "outputId": "9bfc49e8-fac6-4e0e-9649-8d0d33e70797"
      },
      "execution_count": null,
      "outputs": [
        {
          "output_type": "stream",
          "name": "stderr",
          "text": [
            "/usr/local/lib/python3.11/dist-packages/sklearn/linear_model/_logistic.py:465: ConvergenceWarning: lbfgs failed to converge (status=1):\n",
            "STOP: TOTAL NO. of ITERATIONS REACHED LIMIT.\n",
            "\n",
            "Increase the number of iterations (max_iter) or scale the data as shown in:\n",
            "    https://scikit-learn.org/stable/modules/preprocessing.html\n",
            "Please also refer to the documentation for alternative solver options:\n",
            "    https://scikit-learn.org/stable/modules/linear_model.html#logistic-regression\n",
            "  n_iter_i = _check_optimize_result(\n"
          ]
        },
        {
          "output_type": "stream",
          "name": "stdout",
          "text": [
            "Logistic Regression | Validation Acc: 0.8062 | Test Acc: 0.8158\n",
            "\n",
            "Classification Report (Test Set):\n",
            "                     precision    recall  f1-score   support\n",
            "\n",
            "Insufficient_Weight       0.79      0.85      0.82        59\n",
            "      Normal_Weight       0.65      0.52      0.58        61\n",
            "     Obesity_Type_I       0.86      0.86      0.86        70\n",
            "    Obesity_Type_II       0.91      0.97      0.94        64\n",
            "   Obesity_Type_III       0.98      1.00      0.99        60\n",
            " Overweight_Level_I       0.68      0.73      0.70        55\n",
            "Overweight_Level_II       0.77      0.76      0.76        49\n",
            "\n",
            "           accuracy                           0.82       418\n",
            "          macro avg       0.81      0.81      0.81       418\n",
            "       weighted avg       0.81      0.82      0.81       418\n",
            "\n",
            "KNN | Validation Acc: 0.8493 | Test Acc: 0.8684\n",
            "\n",
            "Classification Report (Test Set):\n",
            "                     precision    recall  f1-score   support\n",
            "\n",
            "Insufficient_Weight       0.76      0.98      0.86        59\n",
            "      Normal_Weight       0.76      0.48      0.59        61\n",
            "     Obesity_Type_I       0.90      0.94      0.92        70\n",
            "    Obesity_Type_II       0.98      1.00      0.99        64\n",
            "   Obesity_Type_III       0.98      1.00      0.99        60\n",
            " Overweight_Level_I       0.82      0.84      0.83        55\n",
            "Overweight_Level_II       0.82      0.82      0.82        49\n",
            "\n",
            "           accuracy                           0.87       418\n",
            "          macro avg       0.86      0.86      0.86       418\n",
            "       weighted avg       0.87      0.87      0.86       418\n",
            "\n",
            "Naive Bayes | Validation Acc: 0.5024 | Test Acc: 0.5646\n",
            "\n",
            "Classification Report (Test Set):\n",
            "                     precision    recall  f1-score   support\n",
            "\n",
            "Insufficient_Weight       0.47      0.98      0.63        59\n",
            "      Normal_Weight       0.69      0.18      0.29        61\n",
            "     Obesity_Type_I       0.46      0.51      0.48        70\n",
            "    Obesity_Type_II       0.57      0.97      0.72        64\n",
            "   Obesity_Type_III       1.00      1.00      1.00        60\n",
            " Overweight_Level_I       0.12      0.02      0.03        55\n",
            "Overweight_Level_II       0.35      0.16      0.22        49\n",
            "\n",
            "           accuracy                           0.56       418\n",
            "          macro avg       0.52      0.55      0.48       418\n",
            "       weighted avg       0.53      0.56      0.50       418\n",
            "\n",
            "Decision Tree | Validation Acc: 0.9067 | Test Acc: 0.8947\n",
            "\n",
            "Classification Report (Test Set):\n",
            "                     precision    recall  f1-score   support\n",
            "\n",
            "Insufficient_Weight       0.87      0.88      0.87        59\n",
            "      Normal_Weight       0.80      0.64      0.71        61\n",
            "     Obesity_Type_I       0.96      0.96      0.96        70\n",
            "    Obesity_Type_II       0.97      0.98      0.98        64\n",
            "   Obesity_Type_III       1.00      1.00      1.00        60\n",
            " Overweight_Level_I       0.75      0.84      0.79        55\n",
            "Overweight_Level_II       0.89      0.96      0.92        49\n",
            "\n",
            "           accuracy                           0.89       418\n",
            "          macro avg       0.89      0.89      0.89       418\n",
            "       weighted avg       0.89      0.89      0.89       418\n",
            "\n",
            "Random Forest | Validation Acc: 0.9378 | Test Acc: 0.9402\n",
            "\n",
            "Classification Report (Test Set):\n",
            "                     precision    recall  f1-score   support\n",
            "\n",
            "Insufficient_Weight       0.93      0.93      0.93        59\n",
            "      Normal_Weight       0.86      0.89      0.87        61\n",
            "     Obesity_Type_I       0.99      0.96      0.97        70\n",
            "    Obesity_Type_II       1.00      1.00      1.00        64\n",
            "   Obesity_Type_III       1.00      1.00      1.00        60\n",
            " Overweight_Level_I       0.96      0.84      0.89        55\n",
            "Overweight_Level_II       0.84      0.96      0.90        49\n",
            "\n",
            "           accuracy                           0.94       418\n",
            "          macro avg       0.94      0.94      0.94       418\n",
            "       weighted avg       0.94      0.94      0.94       418\n",
            "\n",
            "Gradient Boosting | Validation Acc: 0.9522 | Test Acc: 0.9522\n",
            "\n",
            "Classification Report (Test Set):\n",
            "                     precision    recall  f1-score   support\n",
            "\n",
            "Insufficient_Weight       0.95      0.92      0.93        59\n",
            "      Normal_Weight       0.87      0.87      0.87        61\n",
            "     Obesity_Type_I       0.99      0.97      0.98        70\n",
            "    Obesity_Type_II       0.98      0.98      0.98        64\n",
            "   Obesity_Type_III       1.00      1.00      1.00        60\n",
            " Overweight_Level_I       0.93      0.93      0.93        55\n",
            "Overweight_Level_II       0.94      1.00      0.97        49\n",
            "\n",
            "           accuracy                           0.95       418\n",
            "          macro avg       0.95      0.95      0.95       418\n",
            "       weighted avg       0.95      0.95      0.95       418\n",
            "\n",
            "SVM | Validation Acc: 0.9617 | Test Acc: 0.9617\n",
            "\n",
            "Classification Report (Test Set):\n",
            "                     precision    recall  f1-score   support\n",
            "\n",
            "Insufficient_Weight       0.95      0.95      0.95        59\n",
            "      Normal_Weight       0.95      0.95      0.95        61\n",
            "     Obesity_Type_I       0.96      0.99      0.97        70\n",
            "    Obesity_Type_II       0.98      0.98      0.98        64\n",
            "   Obesity_Type_III       1.00      1.00      1.00        60\n",
            " Overweight_Level_I       0.96      0.93      0.94        55\n",
            "Overweight_Level_II       0.92      0.92      0.92        49\n",
            "\n",
            "           accuracy                           0.96       418\n",
            "          macro avg       0.96      0.96      0.96       418\n",
            "       weighted avg       0.96      0.96      0.96       418\n",
            "\n",
            "MLP Classifier | Validation Acc: 0.8038 | Test Acc: 0.8158\n",
            "\n",
            "Classification Report (Test Set):\n",
            "                     precision    recall  f1-score   support\n",
            "\n",
            "Insufficient_Weight       0.81      0.92      0.86        59\n",
            "      Normal_Weight       0.73      0.61      0.66        61\n",
            "     Obesity_Type_I       0.81      0.87      0.84        70\n",
            "    Obesity_Type_II       0.98      0.98      0.98        64\n",
            "   Obesity_Type_III       0.98      1.00      0.99        60\n",
            " Overweight_Level_I       0.64      0.62      0.63        55\n",
            "Overweight_Level_II       0.68      0.65      0.67        49\n",
            "\n",
            "           accuracy                           0.82       418\n",
            "          macro avg       0.81      0.81      0.80       418\n",
            "       weighted avg       0.81      0.82      0.81       418\n",
            "\n"
          ]
        }
      ]
    }
  ]
}