{
 "nbformat": 4,
 "nbformat_minor": 0,
 "metadata": {
  "colab": {
   "provenance": []
  },
  "kernelspec": {
   "name": "python3",
   "display_name": "Python 3 (ipykernel)",
   "language": "python"
  },
  "language_info": {
   "name": "python"
  }
 },
 "cells": [
  {
   "metadata": {},
   "cell_type": "markdown",
   "source": [
    "# Obesity Classification Model Training and Evaluation Notebook\n",
    "This notebook handles:\n",
    "- Model Training\n",
    "- Hyper-Parameter Tuning"
   ]
  },
  {
   "metadata": {
    "ExecuteTime": {
     "end_time": "2025-04-19T02:25:09.618346Z",
     "start_time": "2025-04-19T02:25:09.266758Z"
    }
   },
   "cell_type": "code",
   "source": [
    "import pandas as pd\n",
    "\n",
    "X_train = pd.read_csv(\"data/preprocessed data/X_train.csv\")\n",
    "X_val = pd.read_csv(\"data/preprocessed data/X_val.csv\")\n",
    "X_test = pd.read_csv(\"data/preprocessed data/X_test.csv\")\n",
    "y_train = pd.read_csv(\"data/preprocessed data/y_train.csv\", header=None).to_numpy().ravel()\n",
    "y_val = pd.read_csv(\"data/preprocessed data/y_val.csv\", header=None).to_numpy().ravel()\n",
    "y_test = pd.read_csv(\"data/preprocessed data/y_test.csv\", header=None).to_numpy().ravel()\n",
    "X_train.shape, X_val.shape, X_test.shape, y_train.shape, y_val.shape, y_test.shape"
   ],
   "outputs": [
    {
     "data": {
      "text/plain": [
       "((1251, 21), (418, 21), (418, 21), (1251,), (418,), (418,))"
      ]
     },
     "execution_count": 1,
     "metadata": {},
     "output_type": "execute_result"
    }
   ],
   "execution_count": 1
  },
  {
   "metadata": {},
   "cell_type": "markdown",
   "source": "## Model Evaluation"
  },
  {
   "metadata": {
    "ExecuteTime": {
     "end_time": "2025-04-19T02:25:10.689761Z",
     "start_time": "2025-04-19T02:25:09.641394Z"
    }
   },
   "cell_type": "code",
   "source": [
    "from Model_Evaluation import ModelsEvaluator\n",
    "\n",
    "models_evaluator = ModelsEvaluator()"
   ],
   "outputs": [],
   "execution_count": 2
  },
  {
   "metadata": {},
   "cell_type": "markdown",
   "source": "## GridSearch Cross-Validation Hyper-Parameter Tuning"
  },
  {
   "metadata": {
    "ExecuteTime": {
     "end_time": "2025-04-19T02:25:10.905110Z",
     "start_time": "2025-04-19T02:25:10.875763Z"
    }
   },
   "cell_type": "code",
   "source": [
    "from sklearn.base import BaseEstimator\n",
    "from sklearn.model_selection import GridSearchCV\n",
    "\n",
    "param_grid = dict()\n",
    "\n",
    "\n",
    "def hyper_parameter_tune(model_name: str, model: BaseEstimator, verbose: bool = True) -> BaseEstimator:\n",
    "    grid_search = GridSearchCV(model, param_grid[model_name], n_jobs=-1)\n",
    "    grid_search.fit(X_train, y_train)\n",
    "    param_grid[model_name][\"best_params\"] = grid_search.best_params_\n",
    "    if verbose:\n",
    "        print(grid_search.best_params_)\n",
    "    return grid_search.best_estimator_"
   ],
   "outputs": [],
   "execution_count": 3
  },
  {
   "metadata": {},
   "cell_type": "markdown",
   "source": "## Model Training"
  },
  {
   "metadata": {},
   "cell_type": "markdown",
   "source": "### Gaussian Naive Bayes Classifier"
  },
  {
   "metadata": {
    "ExecuteTime": {
     "end_time": "2025-04-19T02:25:14.715020Z",
     "start_time": "2025-04-19T02:25:11.009585Z"
    }
   },
   "cell_type": "code",
   "source": [
    "from sklearn.naive_bayes import GaussianNB\n",
    "\n",
    "GaussianNB_model = GaussianNB()\n",
    "param_grid[\"GaussianNB\"] = {\"var_smoothing\": [1e-9, 1e-6, 1e-3, 1e-2, 1e-1]}\n",
    "GaussianNB_model = hyper_parameter_tune(\"GaussianNB\", GaussianNB_model)\n",
    "models_evaluator.evaluate(\"GaussianNB\", GaussianNB_model, save_model=True)"
   ],
   "outputs": [
    {
     "name": "stdout",
     "output_type": "stream",
     "text": [
      "{'var_smoothing': 0.01}\n"
     ]
    },
    {
     "data": {
      "text/plain": [
       "Train_Accuracy       0.821743\n",
       "Val_Accuracy         0.794258\n",
       "Test_Accuracy        0.811005\n",
       "Balanced_Accuracy    0.810421\n",
       "Precision            0.806936\n",
       "F1_Score              0.80523\n",
       "Name: GaussianNB, dtype: object"
      ]
     },
     "execution_count": 4,
     "metadata": {},
     "output_type": "execute_result"
    }
   ],
   "execution_count": 4
  },
  {
   "metadata": {},
   "cell_type": "markdown",
   "source": "### Logistic Regression Classifier"
  },
  {
   "metadata": {
    "ExecuteTime": {
     "end_time": "2025-04-19T02:25:15.194506Z",
     "start_time": "2025-04-19T02:25:14.795178Z"
    }
   },
   "cell_type": "code",
   "source": [
    "from sklearn.linear_model import LogisticRegression\n",
    "\n",
    "LogisticRegression_model = LogisticRegression(random_state=42, n_jobs=-1)\n",
    "param_grid[\"LogisticRegression\"] = {\"C\": [1.0, 0.1, 10]}\n",
    "LogisticRegression_model = hyper_parameter_tune(\"LogisticRegression\", LogisticRegression_model)\n",
    "models_evaluator.evaluate(\"LogisticRegression\", LogisticRegression_model, save_model=True)"
   ],
   "outputs": [
    {
     "name": "stdout",
     "output_type": "stream",
     "text": [
      "{'C': 10}\n"
     ]
    },
    {
     "data": {
      "text/plain": [
       "Train_Accuracy        0.96243\n",
       "Val_Accuracy         0.949761\n",
       "Test_Accuracy        0.956938\n",
       "Balanced_Accuracy    0.955753\n",
       "Precision            0.957775\n",
       "F1_Score             0.956974\n",
       "Name: LogisticRegression, dtype: object"
      ]
     },
     "execution_count": 5,
     "metadata": {},
     "output_type": "execute_result"
    }
   ],
   "execution_count": 5
  },
  {
   "metadata": {},
   "cell_type": "markdown",
   "source": "### K-Nearest Neighbors Classifier"
  },
  {
   "metadata": {
    "ExecuteTime": {
     "end_time": "2025-04-19T02:25:15.882899Z",
     "start_time": "2025-04-19T02:25:15.242513Z"
    }
   },
   "cell_type": "code",
   "source": [
    "from sklearn.neighbors import KNeighborsClassifier\n",
    "\n",
    "KNeighbors_model = KNeighborsClassifier(n_jobs=-1)\n",
    "param_grid[\"KNeighbors\"] = {\"n_neighbors\": [3, 5, 7]}\n",
    "KNeighbors_model = hyper_parameter_tune(\"KNeighbors\", KNeighbors_model)\n",
    "models_evaluator.evaluate(\"KNeighbors\", KNeighbors_model, save_model=True)"
   ],
   "outputs": [
    {
     "name": "stdout",
     "output_type": "stream",
     "text": [
      "{'n_neighbors': 3}\n"
     ]
    },
    {
     "data": {
      "text/plain": [
       "Train_Accuracy       0.930456\n",
       "Val_Accuracy         0.892344\n",
       "Test_Accuracy         0.84689\n",
       "Balanced_Accuracy    0.840845\n",
       "Precision            0.848875\n",
       "F1_Score             0.838273\n",
       "Name: KNeighbors, dtype: object"
      ]
     },
     "execution_count": 6,
     "metadata": {},
     "output_type": "execute_result"
    }
   ],
   "execution_count": 6
  },
  {
   "metadata": {},
   "cell_type": "markdown",
   "source": "### Decision Tree Classifier"
  },
  {
   "metadata": {
    "ExecuteTime": {
     "end_time": "2025-04-19T02:25:16.075483Z",
     "start_time": "2025-04-19T02:25:15.932700Z"
    }
   },
   "cell_type": "code",
   "source": [
    "from sklearn.tree import DecisionTreeClassifier\n",
    "\n",
    "DecisionTree_model = DecisionTreeClassifier(random_state=42)\n",
    "param_grid[\"DecisionTree\"] = {\"max_depth\": [3, 5, 7]}\n",
    "DecisionTree_model = hyper_parameter_tune(\"DecisionTree\", DecisionTree_model)\n",
    "models_evaluator.evaluate(\"DecisionTree\", DecisionTree_model, save_model=True)"
   ],
   "outputs": [
    {
     "name": "stdout",
     "output_type": "stream",
     "text": [
      "{'max_depth': 7}\n"
     ]
    },
    {
     "data": {
      "text/plain": [
       "Train_Accuracy            1.0\n",
       "Val_Accuracy         0.976077\n",
       "Test_Accuracy        0.978469\n",
       "Balanced_Accuracy    0.976967\n",
       "Precision            0.978897\n",
       "F1_Score             0.978374\n",
       "Name: DecisionTree, dtype: object"
      ]
     },
     "execution_count": 7,
     "metadata": {},
     "output_type": "execute_result"
    }
   ],
   "execution_count": 7
  },
  {
   "metadata": {},
   "cell_type": "markdown",
   "source": "### Support Vector Classifier"
  },
  {
   "metadata": {
    "ExecuteTime": {
     "end_time": "2025-04-19T02:25:16.488590Z",
     "start_time": "2025-04-19T02:25:16.124616Z"
    }
   },
   "cell_type": "code",
   "source": [
    "from sklearn.svm import SVC\n",
    "\n",
    "SVC_model = SVC(random_state=42)\n",
    "param_grid[\"SVC\"] = {\"kernel\": [\"linear\", \"poly\", \"rbf\"], \"C\": [1.0, 0.5, 1.5]}\n",
    "SVC_model = hyper_parameter_tune(\"SVC\", SVC_model)\n",
    "models_evaluator.evaluate(\"SVC\", SVC_model, save_model=True)"
   ],
   "outputs": [
    {
     "name": "stdout",
     "output_type": "stream",
     "text": [
      "{'C': 1.5, 'kernel': 'linear'}\n"
     ]
    },
    {
     "data": {
      "text/plain": [
       "Train_Accuracy       0.972022\n",
       "Val_Accuracy         0.954545\n",
       "Test_Accuracy        0.961722\n",
       "Balanced_Accuracy    0.960664\n",
       "Precision            0.962115\n",
       "F1_Score             0.961684\n",
       "Name: SVC, dtype: object"
      ]
     },
     "execution_count": 8,
     "metadata": {},
     "output_type": "execute_result"
    }
   ],
   "execution_count": 8
  },
  {
   "metadata": {},
   "cell_type": "markdown",
   "source": "### Random Forest Classifier"
  },
  {
   "metadata": {
    "ExecuteTime": {
     "end_time": "2025-04-19T02:25:17.880700Z",
     "start_time": "2025-04-19T02:25:16.588442Z"
    }
   },
   "cell_type": "code",
   "source": [
    "from sklearn.ensemble import RandomForestClassifier\n",
    "\n",
    "RandomForest_model = RandomForestClassifier(max_depth=5, random_state=42, n_jobs=-1)\n",
    "param_grid[\"RandomForest\"] = {\"ccp_alpha\": [0.01, 0.09, 0.011]}\n",
    "RandomForest_model = hyper_parameter_tune(\"RandomForest\", RandomForest_model)\n",
    "models_evaluator.evaluate(\"RandomForest\", RandomForest_model, save_model=True)"
   ],
   "outputs": [
    {
     "name": "stdout",
     "output_type": "stream",
     "text": [
      "{'ccp_alpha': 0.011}\n"
     ]
    },
    {
     "data": {
      "text/plain": [
       "Train_Accuracy       0.960831\n",
       "Val_Accuracy         0.956938\n",
       "Test_Accuracy        0.947368\n",
       "Balanced_Accuracy    0.944758\n",
       "Precision            0.947893\n",
       "F1_Score             0.946929\n",
       "Name: RandomForest, dtype: object"
      ]
     },
     "execution_count": 9,
     "metadata": {},
     "output_type": "execute_result"
    }
   ],
   "execution_count": 9
  },
  {
   "metadata": {},
   "cell_type": "markdown",
   "source": "### Gradient Boosting Classifier"
  },
  {
   "metadata": {
    "ExecuteTime": {
     "end_time": "2025-04-19T02:25:29.780066Z",
     "start_time": "2025-04-19T02:25:17.982808Z"
    }
   },
   "cell_type": "code",
   "source": [
    "from sklearn.ensemble import GradientBoostingClassifier\n",
    "\n",
    "GradientBoosting_model = GradientBoostingClassifier(random_state=42)\n",
    "param_grid[\"GradientBoosting\"] = {\"learning_rate\": [0.1, 0.09, 0.11], \"ccp_alpha\": [0.01, 0.09, 0.11]}\n",
    "GradientBoosting_model = hyper_parameter_tune(\"GradientBoosting\", GradientBoosting_model)\n",
    "models_evaluator.evaluate(\"GradientBoosting\", GradientBoosting_model, save_model=True)"
   ],
   "outputs": [
    {
     "name": "stdout",
     "output_type": "stream",
     "text": [
      "{'ccp_alpha': 0.01, 'learning_rate': 0.1}\n"
     ]
    },
    {
     "data": {
      "text/plain": [
       "Train_Accuracy       0.965627\n",
       "Val_Accuracy         0.961722\n",
       "Test_Accuracy         0.95933\n",
       "Balanced_Accuracy    0.958763\n",
       "Precision             0.96065\n",
       "F1_Score             0.959117\n",
       "Name: GradientBoosting, dtype: object"
      ]
     },
     "execution_count": 10,
     "metadata": {},
     "output_type": "execute_result"
    }
   ],
   "execution_count": 10
  },
  {
   "metadata": {},
   "cell_type": "markdown",
   "source": "### Multilayer Perceptron Classifier"
  },
  {
   "metadata": {
    "ExecuteTime": {
     "end_time": "2025-04-19T02:25:31.212826Z",
     "start_time": "2025-04-19T02:25:29.878323Z"
    }
   },
   "cell_type": "code",
   "source": [
    "from sklearn.neural_network import MLPClassifier\n",
    "\n",
    "MLP_model = MLPClassifier(early_stopping=True, random_state=42)\n",
    "param_grid[\"MLP\"] = {\"hidden_layer_sizes\": [(100,), (50, 50), (25, 10, 5)]}\n",
    "MLP_model = hyper_parameter_tune(\"MLP\", MLP_model)\n",
    "models_evaluator.evaluate(\"MLP\", MLP_model, save_model=True)"
   ],
   "outputs": [
    {
     "name": "stdout",
     "output_type": "stream",
     "text": [
      "{'hidden_layer_sizes': (50, 50)}\n"
     ]
    },
    {
     "data": {
      "text/plain": [
       "Train_Accuracy       0.964828\n",
       "Val_Accuracy         0.913876\n",
       "Test_Accuracy        0.937799\n",
       "Balanced_Accuracy      0.9355\n",
       "Precision            0.937798\n",
       "F1_Score             0.937682\n",
       "Name: MLP, dtype: object"
      ]
     },
     "execution_count": 11,
     "metadata": {},
     "output_type": "execute_result"
    }
   ],
   "execution_count": 11
  },
  {
   "metadata": {
    "ExecuteTime": {
     "end_time": "2025-04-19T02:25:31.302037Z",
     "start_time": "2025-04-19T02:25:31.287040Z"
    }
   },
   "cell_type": "code",
   "source": "models_evaluator.get_all_evaluations()",
   "outputs": [
    {
     "data": {
      "text/plain": [
       "                   Train_Accuracy Val_Accuracy Test_Accuracy  \\\n",
       "Model                                                          \n",
       "GaussianNB               0.821743     0.794258      0.811005   \n",
       "LogisticRegression        0.96243     0.949761      0.956938   \n",
       "KNeighbors               0.930456     0.892344       0.84689   \n",
       "DecisionTree                  1.0     0.976077      0.978469   \n",
       "SVC                      0.972022     0.954545      0.961722   \n",
       "RandomForest             0.960831     0.956938      0.947368   \n",
       "GradientBoosting         0.965627     0.961722       0.95933   \n",
       "MLP                      0.964828     0.913876      0.937799   \n",
       "\n",
       "                   Balanced_Accuracy Precision  F1_Score  \n",
       "Model                                                     \n",
       "GaussianNB                  0.810421  0.806936   0.80523  \n",
       "LogisticRegression          0.955753  0.957775  0.956974  \n",
       "KNeighbors                  0.840845  0.848875  0.838273  \n",
       "DecisionTree                0.976967  0.978897  0.978374  \n",
       "SVC                         0.960664  0.962115  0.961684  \n",
       "RandomForest                0.944758  0.947893  0.946929  \n",
       "GradientBoosting            0.958763   0.96065  0.959117  \n",
       "MLP                           0.9355  0.937798  0.937682  "
      ],
      "text/html": [
       "<div>\n",
       "<style scoped>\n",
       "    .dataframe tbody tr th:only-of-type {\n",
       "        vertical-align: middle;\n",
       "    }\n",
       "\n",
       "    .dataframe tbody tr th {\n",
       "        vertical-align: top;\n",
       "    }\n",
       "\n",
       "    .dataframe thead th {\n",
       "        text-align: right;\n",
       "    }\n",
       "</style>\n",
       "<table border=\"1\" class=\"dataframe\">\n",
       "  <thead>\n",
       "    <tr style=\"text-align: right;\">\n",
       "      <th></th>\n",
       "      <th>Train_Accuracy</th>\n",
       "      <th>Val_Accuracy</th>\n",
       "      <th>Test_Accuracy</th>\n",
       "      <th>Balanced_Accuracy</th>\n",
       "      <th>Precision</th>\n",
       "      <th>F1_Score</th>\n",
       "    </tr>\n",
       "    <tr>\n",
       "      <th>Model</th>\n",
       "      <th></th>\n",
       "      <th></th>\n",
       "      <th></th>\n",
       "      <th></th>\n",
       "      <th></th>\n",
       "      <th></th>\n",
       "    </tr>\n",
       "  </thead>\n",
       "  <tbody>\n",
       "    <tr>\n",
       "      <th>GaussianNB</th>\n",
       "      <td>0.821743</td>\n",
       "      <td>0.794258</td>\n",
       "      <td>0.811005</td>\n",
       "      <td>0.810421</td>\n",
       "      <td>0.806936</td>\n",
       "      <td>0.80523</td>\n",
       "    </tr>\n",
       "    <tr>\n",
       "      <th>LogisticRegression</th>\n",
       "      <td>0.96243</td>\n",
       "      <td>0.949761</td>\n",
       "      <td>0.956938</td>\n",
       "      <td>0.955753</td>\n",
       "      <td>0.957775</td>\n",
       "      <td>0.956974</td>\n",
       "    </tr>\n",
       "    <tr>\n",
       "      <th>KNeighbors</th>\n",
       "      <td>0.930456</td>\n",
       "      <td>0.892344</td>\n",
       "      <td>0.84689</td>\n",
       "      <td>0.840845</td>\n",
       "      <td>0.848875</td>\n",
       "      <td>0.838273</td>\n",
       "    </tr>\n",
       "    <tr>\n",
       "      <th>DecisionTree</th>\n",
       "      <td>1.0</td>\n",
       "      <td>0.976077</td>\n",
       "      <td>0.978469</td>\n",
       "      <td>0.976967</td>\n",
       "      <td>0.978897</td>\n",
       "      <td>0.978374</td>\n",
       "    </tr>\n",
       "    <tr>\n",
       "      <th>SVC</th>\n",
       "      <td>0.972022</td>\n",
       "      <td>0.954545</td>\n",
       "      <td>0.961722</td>\n",
       "      <td>0.960664</td>\n",
       "      <td>0.962115</td>\n",
       "      <td>0.961684</td>\n",
       "    </tr>\n",
       "    <tr>\n",
       "      <th>RandomForest</th>\n",
       "      <td>0.960831</td>\n",
       "      <td>0.956938</td>\n",
       "      <td>0.947368</td>\n",
       "      <td>0.944758</td>\n",
       "      <td>0.947893</td>\n",
       "      <td>0.946929</td>\n",
       "    </tr>\n",
       "    <tr>\n",
       "      <th>GradientBoosting</th>\n",
       "      <td>0.965627</td>\n",
       "      <td>0.961722</td>\n",
       "      <td>0.95933</td>\n",
       "      <td>0.958763</td>\n",
       "      <td>0.96065</td>\n",
       "      <td>0.959117</td>\n",
       "    </tr>\n",
       "    <tr>\n",
       "      <th>MLP</th>\n",
       "      <td>0.964828</td>\n",
       "      <td>0.913876</td>\n",
       "      <td>0.937799</td>\n",
       "      <td>0.9355</td>\n",
       "      <td>0.937798</td>\n",
       "      <td>0.937682</td>\n",
       "    </tr>\n",
       "  </tbody>\n",
       "</table>\n",
       "</div>"
      ]
     },
     "execution_count": 12,
     "metadata": {},
     "output_type": "execute_result"
    }
   ],
   "execution_count": 12
  },
  {
   "metadata": {
    "ExecuteTime": {
     "end_time": "2025-04-19T02:25:31.507450Z",
     "start_time": "2025-04-19T02:25:31.493098Z"
    }
   },
   "cell_type": "code",
   "source": [
    "import joblib\n",
    "\n",
    "joblib.dump(param_grid, \"utils/param_grid.pkl\")\n",
    "joblib.dump(models_evaluator, \"utils/model_evaluator.pkl\")"
   ],
   "outputs": [
    {
     "data": {
      "text/plain": [
       "['utils/model_evaluator.pkl']"
      ]
     },
     "execution_count": 13,
     "metadata": {},
     "output_type": "execute_result"
    }
   ],
   "execution_count": 13
  }
 ]
}
